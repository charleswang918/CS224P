{
 "cells": [
  {
   "cell_type": "code",
   "execution_count": 1,
   "metadata": {
    "colab": {
     "base_uri": "https://localhost:8080/"
    },
    "id": "AI1W26JzYlKi",
    "outputId": "82073e67-27bc-4ba8-e752-1aee05ea8fe2"
   },
   "outputs": [
    {
     "name": "stdout",
     "output_type": "stream",
     "text": [
      "Collecting pymongo[srv]\n",
      "  Downloading pymongo-4.10.1-cp310-cp310-manylinux_2_17_x86_64.manylinux2014_x86_64.whl.metadata (22 kB)\n",
      "\u001b[33mWARNING: pymongo 4.10.1 does not provide the extra 'srv'\u001b[0m\u001b[33m\n",
      "\u001b[0mCollecting dnspython<3.0.0,>=1.16.0 (from pymongo[srv])\n",
      "  Downloading dnspython-2.7.0-py3-none-any.whl.metadata (5.8 kB)\n",
      "Downloading dnspython-2.7.0-py3-none-any.whl (313 kB)\n",
      "\u001b[2K   \u001b[90m━━━━━━━━━━━━━━━━━━━━━━━━━━━━━━━━━━━━━━━━\u001b[0m \u001b[32m313.6/313.6 kB\u001b[0m \u001b[31m15.4 MB/s\u001b[0m eta \u001b[36m0:00:00\u001b[0m\n",
      "\u001b[?25hDownloading pymongo-4.10.1-cp310-cp310-manylinux_2_17_x86_64.manylinux2014_x86_64.whl (1.4 MB)\n",
      "\u001b[2K   \u001b[90m━━━━━━━━━━━━━━━━━━━━━━━━━━━━━━━━━━━━━━━━\u001b[0m \u001b[32m1.4/1.4 MB\u001b[0m \u001b[31m20.5 MB/s\u001b[0m eta \u001b[36m0:00:00\u001b[0m\n",
      "\u001b[?25hInstalling collected packages: dnspython, pymongo\n",
      "Successfully installed dnspython-2.7.0 pymongo-4.10.1\n"
     ]
    }
   ],
   "source": [
    "!python -m pip install \"pymongo[srv]\""
   ]
  },
  {
   "cell_type": "code",
   "execution_count": 2,
   "metadata": {
    "id": "rosH82bhFWhG"
   },
   "outputs": [],
   "source": [
    "import pymongo\n",
    "from bson.json_util import dumps\n",
    "\n",
    "#uri = \"your-Atlas-instance-uri-goes-here\"\n",
    "client = pymongo.MongoClient(uri)\n",
    "demodb = client.demodb"
   ]
  },
  {
   "cell_type": "code",
   "execution_count": 3,
   "metadata": {
    "id": "u34ZVIcAFWhI"
   },
   "outputs": [],
   "source": [
    "# nothing up my sleeve :-)\n",
    "\n",
    "demodb.customers.drop()"
   ]
  },
  {
   "cell_type": "code",
   "execution_count": 4,
   "metadata": {
    "id": "p-MoIBt2FWhI"
   },
   "outputs": [],
   "source": [
    "# here's some customer data\n",
    "\n",
    "customers = [\n",
    "   {\"custid\": \"C13\", \"name\": \"T. Cruise\", \"address\": { \"street\": \"201 Main St.\", \"city\": \"St. Louis, MO\", \"zipcode\": \"63101\" }, \"rating\": 750 },\n",
    "   {\"custid\": \"C25\", \"name\": \"M. Streep\", \"address\": { \"street\": \"690 River St.\", \"city\": \"Hanover, MA\", \"zipcode\": \"02340\" }, \"rating\": 690 },\n",
    "   {\"custid\": \"C31\", \"name\": \"B. Pitt\", \"address\": { \"street\": \"360 Mountain Ave.\", \"city\": \"St. Louis, MO\", \"zipcode\": \"63101\" } },\n",
    "   {\"custid\": \"C35\", \"name\": \"J. Roberts\", \"address\": { \"street\": \"420 Green St.\", \"city\": \"Boston, MA\", \"zipcode\": \"02115\" }, \"rating\": 565 },\n",
    "   {\"custid\": \"C37\", \"name\": \"T. Hanks\", \"address\": { \"street\": \"120 Harbor Blvd.\", \"city\": \"Boston, MA\", \"zipcode\": \"02115\" }, \"rating\": 750 },\n",
    "   {\"custid\": \"C41\", \"name\": \"R. Duvall\", \"address\": { \"street\": \"150 Market St.\", \"city\": \"St. Louis, MO\", \"zipcode\": \"63101\" }, \"rating\": 640 },\n",
    "   {\"custid\": \"C47\", \"name\": \"S. Loren\", \"address\": { \"street\": \"Via del Corso\", \"city\": \"Rome, Italy\" }, \"rating\": 625 }\n",
    "]"
   ]
  },
  {
   "cell_type": "code",
   "execution_count": 5,
   "metadata": {
    "colab": {
     "base_uri": "https://localhost:8080/"
    },
    "id": "P_7YITb0FWhJ",
    "outputId": "7b0e0581-0382-4281-a797-86017f842a97"
   },
   "outputs": [
    {
     "data": {
      "text/plain": [
       "InsertManyResult([ObjectId('6712f0fc48d4d87560133f34'), ObjectId('6712f0fc48d4d87560133f35'), ObjectId('6712f0fc48d4d87560133f36'), ObjectId('6712f0fc48d4d87560133f37'), ObjectId('6712f0fc48d4d87560133f38'), ObjectId('6712f0fc48d4d87560133f39'), ObjectId('6712f0fc48d4d87560133f3a')], acknowledged=True)"
      ]
     },
     "execution_count": 5,
     "metadata": {},
     "output_type": "execute_result"
    }
   ],
   "source": [
    "# insert the data\n",
    "\n",
    "demodb.customers.insert_many(customers)"
   ]
  },
  {
   "cell_type": "code",
   "execution_count": 6,
   "metadata": {
    "colab": {
     "base_uri": "https://localhost:8080/"
    },
    "id": "tlM76XE1FWhJ",
    "outputId": "bb0749bf-831f-4476-c0b7-05b1a5ee38c4"
   },
   "outputs": [
    {
     "data": {
      "text/plain": [
       "7"
      ]
     },
     "execution_count": 6,
     "metadata": {},
     "output_type": "execute_result"
    }
   ],
   "source": [
    "# count the number of customers\n",
    "\n",
    "demodb.customers.count_documents( {} )"
   ]
  },
  {
   "cell_type": "code",
   "execution_count": 7,
   "metadata": {
    "colab": {
     "base_uri": "https://localhost:8080/"
    },
    "id": "lI13xycRFWhJ",
    "outputId": "279f7f90-0fad-47b8-d98f-aa6307a50b7d"
   },
   "outputs": [
    {
     "name": "stdout",
     "output_type": "stream",
     "text": [
      "{\n",
      "  \"_id\": {\n",
      "    \"$oid\": \"6712f0fc48d4d87560133f34\"\n",
      "  },\n",
      "  \"custid\": \"C13\",\n",
      "  \"name\": \"T. Cruise\",\n",
      "  \"address\": {\n",
      "    \"street\": \"201 Main St.\",\n",
      "    \"city\": \"St. Louis, MO\",\n",
      "    \"zipcode\": \"63101\"\n",
      "  },\n",
      "  \"rating\": 750\n",
      "}\n"
     ]
    }
   ],
   "source": [
    "# get (any) one customer\n",
    "\n",
    "cursor = demodb.customers.find_one( {} )\n",
    "print(dumps(cursor, indent=2))"
   ]
  },
  {
   "cell_type": "code",
   "execution_count": 8,
   "metadata": {
    "colab": {
     "base_uri": "https://localhost:8080/"
    },
    "id": "0T6pXROBFWhJ",
    "outputId": "a1de64a2-c039-46d9-ce66-f72bf1b2f82c"
   },
   "outputs": [
    {
     "name": "stdout",
     "output_type": "stream",
     "text": [
      "[\n",
      "  {\n",
      "    \"_id\": {\n",
      "      \"$oid\": \"6712f0fc48d4d87560133f34\"\n",
      "    },\n",
      "    \"custid\": \"C13\",\n",
      "    \"name\": \"T. Cruise\",\n",
      "    \"address\": {\n",
      "      \"street\": \"201 Main St.\",\n",
      "      \"city\": \"St. Louis, MO\",\n",
      "      \"zipcode\": \"63101\"\n",
      "    },\n",
      "    \"rating\": 750\n",
      "  },\n",
      "  {\n",
      "    \"_id\": {\n",
      "      \"$oid\": \"6712f0fc48d4d87560133f35\"\n",
      "    },\n",
      "    \"custid\": \"C25\",\n",
      "    \"name\": \"M. Streep\",\n",
      "    \"address\": {\n",
      "      \"street\": \"690 River St.\",\n",
      "      \"city\": \"Hanover, MA\",\n",
      "      \"zipcode\": \"02340\"\n",
      "    },\n",
      "    \"rating\": 690\n",
      "  },\n",
      "  {\n",
      "    \"_id\": {\n",
      "      \"$oid\": \"6712f0fc48d4d87560133f36\"\n",
      "    },\n",
      "    \"custid\": \"C31\",\n",
      "    \"name\": \"B. Pitt\",\n",
      "    \"address\": {\n",
      "      \"street\": \"360 Mountain Ave.\",\n",
      "      \"city\": \"St. Louis, MO\",\n",
      "      \"zipcode\": \"63101\"\n",
      "    }\n",
      "  },\n",
      "  {\n",
      "    \"_id\": {\n",
      "      \"$oid\": \"6712f0fc48d4d87560133f37\"\n",
      "    },\n",
      "    \"custid\": \"C35\",\n",
      "    \"name\": \"J. Roberts\",\n",
      "    \"address\": {\n",
      "      \"street\": \"420 Green St.\",\n",
      "      \"city\": \"Boston, MA\",\n",
      "      \"zipcode\": \"02115\"\n",
      "    },\n",
      "    \"rating\": 565\n",
      "  },\n",
      "  {\n",
      "    \"_id\": {\n",
      "      \"$oid\": \"6712f0fc48d4d87560133f38\"\n",
      "    },\n",
      "    \"custid\": \"C37\",\n",
      "    \"name\": \"T. Hanks\",\n",
      "    \"address\": {\n",
      "      \"street\": \"120 Harbor Blvd.\",\n",
      "      \"city\": \"Boston, MA\",\n",
      "      \"zipcode\": \"02115\"\n",
      "    },\n",
      "    \"rating\": 750\n",
      "  },\n",
      "  {\n",
      "    \"_id\": {\n",
      "      \"$oid\": \"6712f0fc48d4d87560133f39\"\n",
      "    },\n",
      "    \"custid\": \"C41\",\n",
      "    \"name\": \"R. Duvall\",\n",
      "    \"address\": {\n",
      "      \"street\": \"150 Market St.\",\n",
      "      \"city\": \"St. Louis, MO\",\n",
      "      \"zipcode\": \"63101\"\n",
      "    },\n",
      "    \"rating\": 640\n",
      "  },\n",
      "  {\n",
      "    \"_id\": {\n",
      "      \"$oid\": \"6712f0fc48d4d87560133f3a\"\n",
      "    },\n",
      "    \"custid\": \"C47\",\n",
      "    \"name\": \"S. Loren\",\n",
      "    \"address\": {\n",
      "      \"street\": \"Via del Corso\",\n",
      "      \"city\": \"Rome, Italy\"\n",
      "    },\n",
      "    \"rating\": 625\n",
      "  }\n",
      "]\n"
     ]
    }
   ],
   "source": [
    "# get all customers\n",
    "\n",
    "cursor = demodb.customers.find( {} )\n",
    "print(dumps(cursor, indent=2))"
   ]
  },
  {
   "cell_type": "code",
   "execution_count": 9,
   "metadata": {
    "colab": {
     "base_uri": "https://localhost:8080/"
    },
    "id": "YrTQqEe2FWhK",
    "outputId": "8a738222-9550-421e-b82f-fa378f77ad44"
   },
   "outputs": [
    {
     "name": "stdout",
     "output_type": "stream",
     "text": [
      "[\n",
      "  {\n",
      "    \"_id\": {\n",
      "      \"$oid\": \"6712f0fc48d4d87560133f34\"\n",
      "    },\n",
      "    \"custid\": \"C13\",\n",
      "    \"name\": \"T. Cruise\",\n",
      "    \"address\": {\n",
      "      \"street\": \"201 Main St.\",\n",
      "      \"city\": \"St. Louis, MO\",\n",
      "      \"zipcode\": \"63101\"\n",
      "    },\n",
      "    \"rating\": 750\n",
      "  }\n",
      "]\n"
     ]
    }
   ],
   "source": [
    "# get one particular customer\n",
    "\n",
    "cursor = demodb.customers.find( {\"custid\": \"C13\"} )\n",
    "print(dumps(cursor, indent=2))"
   ]
  },
  {
   "cell_type": "code",
   "execution_count": 10,
   "metadata": {
    "colab": {
     "base_uri": "https://localhost:8080/"
    },
    "id": "MNbvOeYcFWhK",
    "outputId": "bd890510-fcd0-4a4a-ea06-f5bd6a80a485"
   },
   "outputs": [
    {
     "name": "stdout",
     "output_type": "stream",
     "text": [
      "[\n",
      "  {\n",
      "    \"_id\": {\n",
      "      \"$oid\": \"6712f0fc48d4d87560133f34\"\n",
      "    },\n",
      "    \"name\": \"T. Cruise\",\n",
      "    \"rating\": 750\n",
      "  },\n",
      "  {\n",
      "    \"_id\": {\n",
      "      \"$oid\": \"6712f0fc48d4d87560133f35\"\n",
      "    },\n",
      "    \"name\": \"M. Streep\",\n",
      "    \"rating\": 690\n",
      "  },\n",
      "  {\n",
      "    \"_id\": {\n",
      "      \"$oid\": \"6712f0fc48d4d87560133f36\"\n",
      "    },\n",
      "    \"name\": \"B. Pitt\"\n",
      "  },\n",
      "  {\n",
      "    \"_id\": {\n",
      "      \"$oid\": \"6712f0fc48d4d87560133f37\"\n",
      "    },\n",
      "    \"name\": \"J. Roberts\",\n",
      "    \"rating\": 565\n",
      "  },\n",
      "  {\n",
      "    \"_id\": {\n",
      "      \"$oid\": \"6712f0fc48d4d87560133f38\"\n",
      "    },\n",
      "    \"name\": \"T. Hanks\",\n",
      "    \"rating\": 750\n",
      "  },\n",
      "  {\n",
      "    \"_id\": {\n",
      "      \"$oid\": \"6712f0fc48d4d87560133f39\"\n",
      "    },\n",
      "    \"name\": \"R. Duvall\",\n",
      "    \"rating\": 640\n",
      "  },\n",
      "  {\n",
      "    \"_id\": {\n",
      "      \"$oid\": \"6712f0fc48d4d87560133f3a\"\n",
      "    },\n",
      "    \"name\": \"S. Loren\",\n",
      "    \"rating\": 625\n",
      "  }\n",
      "]\n"
     ]
    }
   ],
   "source": [
    "# get the _id, name, and rating from customers (note that the _id key is returned by default in MongoDB)\n",
    "\n",
    "cursor = demodb.customers.find( {}, {\"name\": 1, \"rating\": 1} )\n",
    "print(dumps(cursor, indent=2))"
   ]
  },
  {
   "cell_type": "code",
   "execution_count": 11,
   "metadata": {
    "colab": {
     "base_uri": "https://localhost:8080/"
    },
    "id": "Psdw1XWyFWhK",
    "outputId": "a41b7c8a-b601-4de0-bbb5-684ac9cb4237"
   },
   "outputs": [
    {
     "name": "stdout",
     "output_type": "stream",
     "text": [
      "[\n",
      "  {\n",
      "    \"name\": \"T. Cruise\",\n",
      "    \"rating\": 750\n",
      "  },\n",
      "  {\n",
      "    \"name\": \"M. Streep\",\n",
      "    \"rating\": 690\n",
      "  },\n",
      "  {\n",
      "    \"name\": \"B. Pitt\"\n",
      "  },\n",
      "  {\n",
      "    \"name\": \"J. Roberts\",\n",
      "    \"rating\": 565\n",
      "  },\n",
      "  {\n",
      "    \"name\": \"T. Hanks\",\n",
      "    \"rating\": 750\n",
      "  },\n",
      "  {\n",
      "    \"name\": \"R. Duvall\",\n",
      "    \"rating\": 640\n",
      "  },\n",
      "  {\n",
      "    \"name\": \"S. Loren\",\n",
      "    \"rating\": 625\n",
      "  }\n",
      "]\n"
     ]
    }
   ],
   "source": [
    "# get the name and rating from customers minus the pesky _id key\n",
    "\n",
    "cursor = demodb.customers.find( {}, {\"_id\": 0, \"name\": 1, \"rating\":1} )\n",
    "print(dumps(cursor, indent=2))"
   ]
  },
  {
   "cell_type": "code",
   "execution_count": 12,
   "metadata": {
    "colab": {
     "base_uri": "https://localhost:8080/"
    },
    "id": "p8PvzsHLFWhK",
    "outputId": "e7fec61e-ce38-423e-f013-606652962edc"
   },
   "outputs": [
    {
     "name": "stdout",
     "output_type": "stream",
     "text": [
      "[\n",
      "  {\n",
      "    \"custid\": \"C13\",\n",
      "    \"name\": \"T. Cruise\",\n",
      "    \"rating\": 750\n",
      "  },\n",
      "  {\n",
      "    \"custid\": \"C25\",\n",
      "    \"name\": \"M. Streep\",\n",
      "    \"rating\": 690\n",
      "  },\n",
      "  {\n",
      "    \"custid\": \"C31\",\n",
      "    \"name\": \"B. Pitt\"\n",
      "  },\n",
      "  {\n",
      "    \"custid\": \"C35\",\n",
      "    \"name\": \"J. Roberts\",\n",
      "    \"rating\": 565\n",
      "  },\n",
      "  {\n",
      "    \"custid\": \"C37\",\n",
      "    \"name\": \"T. Hanks\",\n",
      "    \"rating\": 750\n",
      "  },\n",
      "  {\n",
      "    \"custid\": \"C41\",\n",
      "    \"name\": \"R. Duvall\",\n",
      "    \"rating\": 640\n",
      "  },\n",
      "  {\n",
      "    \"custid\": \"C47\",\n",
      "    \"name\": \"S. Loren\",\n",
      "    \"rating\": 625\n",
      "  }\n",
      "]\n"
     ]
    }
   ],
   "source": [
    "# get everything BUT _id and address}from customers\n",
    "\n",
    "cursor = demodb.customers.find( {}, {\"_id\": 0, \"address\": 0} )\n",
    "print(dumps(cursor, indent=2))"
   ]
  },
  {
   "cell_type": "code",
   "execution_count": null,
   "metadata": {
    "id": "QlC8MmNKFWhK"
   },
   "outputs": [],
   "source": []
  }
 ],
 "metadata": {
  "colab": {
   "provenance": []
  },
  "kernelspec": {
   "display_name": "Python 3 (ipykernel)",
   "language": "python",
   "name": "python3"
  },
  "language_info": {
   "codemirror_mode": {
    "name": "ipython",
    "version": 3
   },
   "file_extension": ".py",
   "mimetype": "text/x-python",
   "name": "python",
   "nbconvert_exporter": "python",
   "pygments_lexer": "ipython3",
   "version": "3.12.7"
  }
 },
 "nbformat": 4,
 "nbformat_minor": 4
}
