{
 "cells": [
  {
   "cell_type": "code",
   "execution_count": 1,
   "metadata": {
    "id": "Vw9lxeTkGHXY"
   },
   "outputs": [
    {
     "name": "stdout",
     "output_type": "stream",
     "text": [
      "Collecting pymongo[srv]\n",
      "  Downloading pymongo-4.10.1-cp312-cp312-macosx_11_0_arm64.whl.metadata (22 kB)\n",
      "\u001b[33mWARNING: pymongo 4.10.1 does not provide the extra 'srv'\u001b[0m\u001b[33m\n",
      "\u001b[0mCollecting dnspython<3.0.0,>=1.16.0 (from pymongo[srv])\n",
      "  Downloading dnspython-2.7.0-py3-none-any.whl.metadata (5.8 kB)\n",
      "Downloading dnspython-2.7.0-py3-none-any.whl (313 kB)\n",
      "Downloading pymongo-4.10.1-cp312-cp312-macosx_11_0_arm64.whl (943 kB)\n",
      "\u001b[2K   \u001b[38;2;114;156;31m━━━━━━━━━━━━━━━━━━━━━━━━━━━━━━━━━━━━━━━━\u001b[0m \u001b[32m943.1/943.1 kB\u001b[0m \u001b[31m8.5 MB/s\u001b[0m eta \u001b[36m0:00:00\u001b[0m\n",
      "\u001b[?25hInstalling collected packages: dnspython, pymongo\n",
      "Successfully installed dnspython-2.7.0 pymongo-4.10.1\n"
     ]
    }
   ],
   "source": [
    "# Install pymongo if applicable\n",
    "!python -m pip install \"pymongo[srv]\"\n"
   ]
  },
  {
   "cell_type": "code",
   "execution_count": 2,
   "metadata": {
    "id": "e-gc7k8fSfFV"
   },
   "outputs": [],
   "source": [
    "# setup the client. Make sure to remove your password while submitting\n",
    "import pymongo\n",
    "from bson.json_util import dumps\n",
    "\n",
    "uri = \"mongodb+srv://cwang131:#@cs224p.s5z8x.mongodb.net/?retryWrites=true&w=majority&appName=CS224P\"\n",
    "client = pymongo.MongoClient(uri)\n",
    "zotmusic = client.zotmusic"
   ]
  },
  {
   "cell_type": "code",
   "execution_count": 3,
   "metadata": {
    "id": "D4OCAgn6ovO1"
   },
   "outputs": [],
   "source": [
    "# Use Python comments to answer Q1 below\n",
    "# 1.A. In the records collection, the data type for field release_by is document. release_by is a nested filed consist of \n",
    "#      artist_user_id (string) and release_date (string).\n",
    "\n",
    "# 1.B. Yes, there are one field hat is not present in the original data file (records.json)\n",
    "#    i. The name of the newly added field is _id.\n",
    "#    ii. The data type of _id is ObjectId.\n",
    "#    iii. The _id field in MongoDB, specifically when it's of type ObjectId, is a unique identifier that MongoDB automatically assigns \n",
    "#         to each document if you don’t specify one yourself. It is a 12-byte identifier that MongoDB uses as a primary key for each document, \n",
    "#         ensuring uniqueness within the collection.\n",
    "#    iv. Yes, the _id field is unique for all documents in a MongoDB collection. \n",
    "\n",
    "# 1.C. In the reviews collection, posted_by.user_id field can be used to identify the creator of a review by linking it with the users collection.\n",
    "\n",
    "# 1.D. In the users collection, the data type for the field subscription is string. The values are monthly, free, yearly.\n",
    "\n",
    "# 1.E. In the users collection, the data type for the field genres is array of string values.The average of genres per user is 4.62 which means\n",
    "#      that a user maintains around 5 genres on average."
   ]
  },
  {
   "cell_type": "code",
   "execution_count": 15,
   "metadata": {
    "id": "UTOcgoGxisCx"
   },
   "outputs": [
    {
     "name": "stdout",
     "output_type": "stream",
     "text": [
      "{\n",
      "  \"_id\": {\n",
      "    \"$oid\": \"67215bbe18de91b7d0489282\"\n",
      "  },\n",
      "  \"record_id\": \"record_HPJtcrZW\",\n",
      "  \"title\": \"Big worry\",\n",
      "  \"genre\": \"Reggae\",\n",
      "  \"released_by\": {\n",
      "    \"artist_user_id\": \"user_YEGFl37i\",\n",
      "    \"release_date\": \"2020-11-15\"\n",
      "  },\n",
      "  \"is_album\": false,\n",
      "  \"is_single\": true,\n",
      "  \"video_url\": \"http://walker-sanchez.org/\",\n",
      "  \"songs\": [\n",
      "    {\n",
      "      \"track_number\": 1,\n",
      "      \"title\": \"Big worry\",\n",
      "      \"length\": 435,\n",
      "      \"bpm\": 142,\n",
      "      \"mood\": \"people\"\n",
      "    }\n",
      "  ]\n",
      "}\n"
     ]
    }
   ],
   "source": [
    "# 2A\n",
    "cursor = zotmusic.records.find_one({\"title\": \"Big worry\"})\n",
    "print(dumps(cursor, indent=2))"
   ]
  },
  {
   "cell_type": "code",
   "execution_count": 17,
   "metadata": {
    "id": "tZqauatOy2J3"
   },
   "outputs": [
    {
     "name": "stdout",
     "output_type": "stream",
     "text": [
      "[\n",
      "  {\n",
      "    \"title\": \"Position option hair\",\n",
      "    \"released_by\": {\n",
      "      \"release_date\": \"2023-12-29\"\n",
      "    }\n",
      "  },\n",
      "  {\n",
      "    \"title\": \"Whose hear\",\n",
      "    \"released_by\": {\n",
      "      \"release_date\": \"2023-12-28\"\n",
      "    }\n",
      "  },\n",
      "  {\n",
      "    \"title\": \"House film\",\n",
      "    \"released_by\": {\n",
      "      \"release_date\": \"2023-12-24\"\n",
      "    }\n",
      "  }\n",
      "]\n"
     ]
    }
   ],
   "source": [
    "# 2B\n",
    "cursor = zotmusic.records.find({\"is_album\": True}, {\"_id\": 0, \"title\": 1, \"released_by.release_date\": 1}).sort(\"released_by.release_date\", -1).limit(3)\n",
    "print(dumps(cursor, indent=2))"
   ]
  },
  {
   "cell_type": "code",
   "execution_count": 18,
   "metadata": {
    "id": "EMEcRe_vTaq1"
   },
   "outputs": [
    {
     "name": "stdout",
     "output_type": "stream",
     "text": [
      "100\n"
     ]
    }
   ],
   "source": [
    "# 2C\n",
    "cursor = zotmusic.users.count_documents({\"is_listener\": True, \"is_artist\": True})\n",
    "print(cursor)"
   ]
  },
  {
   "cell_type": "code",
   "execution_count": 20,
   "metadata": {
    "id": "bNRsb-0-o01u"
   },
   "outputs": [
    {
     "name": "stdout",
     "output_type": "stream",
     "text": [
      "24\n"
     ]
    }
   ],
   "source": [
    "# 2D\n",
    "cursor = zotmusic.records.count_documents({\n",
    "    \"$or\": [\n",
    "        {\"is_single\": True, \"genre\": \"Pop\", \"released_by.release_date\": {\"$gt\": \"2023-06-30\"}},\n",
    "        {\"is_album\": True, \"genre\": \"Jazz\", \"released_by.release_date\": {\"$lt\": \"2023-01-01\"}}\n",
    "    ]\n",
    "})\n",
    "print(cursor)"
   ]
  },
  {
   "cell_type": "code",
   "execution_count": 49,
   "metadata": {
    "id": "eaFhEyYY24ua"
   },
   "outputs": [
    {
     "name": "stdout",
     "output_type": "stream",
     "text": [
      "[\n",
      "  {\n",
      "    \"email\": \"courtney36@protonmail.com\",\n",
      "    \"full_name\": \"Sherman, Jason\"\n",
      "  },\n",
      "  {\n",
      "    \"email\": \"ryanmorgan@icloud.com\",\n",
      "    \"full_name\": \"Wood, Kimberly\"\n",
      "  }\n",
      "]\n"
     ]
    }
   ],
   "source": [
    "# 2E\n",
    "cursor = zotmusic.users.find(\n",
    "    {\n",
    "        \"is_listener\": True,\n",
    "        \"$expr\": {\"$gte\": [{\"$size\": \"$genres\"}, 9]},\n",
    "        \"address.street\": {\"$exists\": True, \"$ne\": None},\n",
    "        \"address.city\": {\"$exists\": True, \"$ne\": None},\n",
    "        \"address.state\": {\"$exists\": True, \"$ne\": None},\n",
    "        \"address.zip\": {\"$exists\": True, \"$ne\": None}\n",
    "    },\n",
    "    {\n",
    "        \"_id\": 0,\n",
    "        \"email\": 1,\n",
    "        \"full_name\": {\"$concat\": [\"$real_name.last_name\", \", \", \"$real_name.first_name\"]}\n",
    "    }\n",
    ").sort(\"email\", 1)\n",
    "\n",
    "print(dumps(cursor, indent=2))"
   ]
  },
  {
   "cell_type": "code",
   "execution_count": 6,
   "metadata": {
    "id": "W7NMFRluKCWx"
   },
   "outputs": [
    {
     "name": "stdout",
     "output_type": "stream",
     "text": [
      "[\n",
      "  {\n",
      "    \"total_listeners\": 11\n",
      "  }\n",
      "]\n"
     ]
    }
   ],
   "source": [
    "# 2F\n",
    "match_stage = {\n",
    "    \"$match\": {\n",
    "        \"is_listener\": True,\n",
    "        \"subscription\": \"yearly\",\n",
    "        \"joined_date\": {\n",
    "            \"$gte\": \"2022-01-01\",\n",
    "            \"$lt\": \"2023-01-01\"\n",
    "        }\n",
    "    }\n",
    "}\n",
    "\n",
    "count_stage = {\n",
    "    \"$count\": \"total_listeners\"\n",
    "}\n",
    "\n",
    "pipeline = [match_stage, count_stage]\n",
    "\n",
    "cursor = zotmusic.users.aggregate(pipeline)\n",
    "print(dumps(cursor, indent=2))"
   ]
  },
  {
   "cell_type": "code",
   "execution_count": 8,
   "metadata": {
    "id": "SBqfmdhz3vd_"
   },
   "outputs": [
    {
     "name": "stdout",
     "output_type": "stream",
     "text": [
      "[\n",
      "  {\n",
      "    \"total_reviews\": 74,\n",
      "    \"dense_rank\": 1,\n",
      "    \"user_id\": \"user_ux9_qRS-\"\n",
      "  },\n",
      "  {\n",
      "    \"total_reviews\": 71,\n",
      "    \"dense_rank\": 2,\n",
      "    \"user_id\": \"user_vu4RI4dq\"\n",
      "  },\n",
      "  {\n",
      "    \"total_reviews\": 69,\n",
      "    \"dense_rank\": 3,\n",
      "    \"user_id\": \"user_Z217vp0p\"\n",
      "  },\n",
      "  {\n",
      "    \"total_reviews\": 68,\n",
      "    \"dense_rank\": 4,\n",
      "    \"user_id\": \"user_V3iJ0OgE\"\n",
      "  },\n",
      "  {\n",
      "    \"total_reviews\": 68,\n",
      "    \"dense_rank\": 4,\n",
      "    \"user_id\": \"user_ODWOljEV\"\n",
      "  }\n",
      "]\n"
     ]
    }
   ],
   "source": [
    "# 2G\n",
    "\n",
    "group_stage = {\n",
    "    \"$group\": {\n",
    "        \"_id\": \"$posted_by.user_id\",\n",
    "        \"total_reviews\": {\"$sum\": 1}\n",
    "    }\n",
    "}\n",
    "\n",
    "sort_stage = {\n",
    "    \"$sort\": {\n",
    "        \"total_reviews\": -1\n",
    "    }\n",
    "}\n",
    "\n",
    "windowfield_stage = {\n",
    "    \"$setWindowFields\": {\n",
    "        \"partitionBy\": None,\n",
    "        \"sortBy\": { \"total_reviews\": -1 },\n",
    "        \"output\": {\n",
    "            \"dense_rank\": {\n",
    "                \"$denseRank\": {}\n",
    "            }\n",
    "        }\n",
    "    }\n",
    "}\n",
    "\n",
    "match_stage = {\n",
    "    \"$match\": {\n",
    "        \"dense_rank\": { \"$lte\": 4 }\n",
    "    }\n",
    "}\n",
    "\n",
    "project_stage = {\n",
    "    \"$project\": {\n",
    "        \"_id\": 0,\n",
    "        \"user_id\": \"$_id\",\n",
    "        \"total_reviews\": 1,\n",
    "        \"dense_rank\": 1\n",
    "    }\n",
    "}\n",
    "\n",
    "pipeline = [group_stage, sort_stage, windowfield_stage, match_stage, project_stage]\n",
    "\n",
    "cursor = zotmusic.reviews.aggregate(pipeline)\n",
    "print(dumps(cursor, indent=2))"
   ]
  },
  {
   "cell_type": "code",
   "execution_count": 9,
   "metadata": {
    "id": "a3Dcyc-YAcxU"
   },
   "outputs": [
    {
     "name": "stdout",
     "output_type": "stream",
     "text": [
      "[\n",
      "  {\n",
      "    \"user_id\": \"user_p4EheoPI\",\n",
      "    \"nickname\": \"ellengibson\",\n",
      "    \"address\": {\n",
      "      \"street\": \"9400 Wu Court\",\n",
      "      \"city\": \"New Andre\",\n",
      "      \"state\": \"New Hampshire\",\n",
      "      \"zip\": \"95877\"\n",
      "    }\n",
      "  },\n",
      "  {\n",
      "    \"user_id\": \"user_BerqqJn3\",\n",
      "    \"nickname\": \"davidchad\",\n",
      "    \"address\": {\n",
      "      \"street\": \"4174 Michele Gardens Suite 245\",\n",
      "      \"city\": \"Ortizbury\",\n",
      "      \"state\": \"Delaware\",\n",
      "      \"zip\": \"53945\"\n",
      "    }\n",
      "  }\n",
      "]\n"
     ]
    }
   ],
   "source": [
    "# 2H\n",
    "match_stage_1 = {\n",
    "    \"$match\": {\n",
    "        \"record_id\": \"record_qGHboIDL\",\n",
    "        \"rating\": { \"$gte\": 4 }\n",
    "    }\n",
    "}\n",
    "\n",
    "lookup_stage = {\n",
    "    \"$lookup\": {\n",
    "        \"from\": \"users\",\n",
    "        \"localField\": \"posted_by.user_id\",\n",
    "        \"foreignField\": \"user_id\",\n",
    "        \"as\": \"user_info\"\n",
    "    }\n",
    "}\n",
    "\n",
    "unwind_stage = {\n",
    "    \"$unwind\": \"$user_info\"\n",
    "}\n",
    "\n",
    "match_stage_2 = {\n",
    "    \"$match\": {\n",
    "        \"user_info.address.street\": { \"$exists\": True, \"$ne\": None },\n",
    "        \"user_info.address.city\": { \"$exists\": True, \"$ne\": None },\n",
    "        \"user_info.address.state\": { \"$exists\": True, \"$ne\": None },\n",
    "        \"user_info.address.zip\": { \"$exists\": True, \"$ne\": None }\n",
    "    }\n",
    "}\n",
    "\n",
    "project_stage = {\n",
    "    \"$project\": {\n",
    "        \"_id\": 0,\n",
    "        \"user_id\": \"$user_info.user_id\",\n",
    "        \"nickname\": \"$user_info.nickname\",\n",
    "        \"address\": \"$user_info.address\"\n",
    "    }\n",
    "}\n",
    "\n",
    "pipeline = [match_stage_1, lookup_stage, unwind_stage, match_stage_2, project_stage]\n",
    "cursor = zotmusic.reviews.aggregate(pipeline)\n",
    "print(dumps(cursor, indent=2))"
   ]
  },
  {
   "cell_type": "code",
   "execution_count": 10,
   "metadata": {
    "id": "XX2FWAc7WZKm"
   },
   "outputs": [
    {
     "name": "stdout",
     "output_type": "stream",
     "text": [
      "[\n",
      "  {\n",
      "    \"record_id\": \"record_g6asf3ux\",\n",
      "    \"record_title\": \"Garden approach\",\n",
      "    \"track_number\": 1,\n",
      "    \"song_title\": \"Try both whole\"\n",
      "  },\n",
      "  {\n",
      "    \"record_id\": \"record_ZBXcXXcq\",\n",
      "    \"record_title\": \"Forward score matter\",\n",
      "    \"track_number\": 1,\n",
      "    \"song_title\": \"Note career\"\n",
      "  },\n",
      "  {\n",
      "    \"record_id\": \"record_D0VTjwgg\",\n",
      "    \"record_title\": \"Material season\",\n",
      "    \"track_number\": 8,\n",
      "    \"song_title\": \"Well peace\"\n",
      "  },\n",
      "  {\n",
      "    \"record_id\": \"record_PzgNFItj\",\n",
      "    \"record_title\": \"Develop between prove\",\n",
      "    \"track_number\": 9,\n",
      "    \"song_title\": \"System oil\"\n",
      "  },\n",
      "  {\n",
      "    \"record_id\": \"record_AxTzPFAx\",\n",
      "    \"record_title\": \"Gas risk\",\n",
      "    \"track_number\": 9,\n",
      "    \"song_title\": \"Throw fall\"\n",
      "  }\n",
      "]\n"
     ]
    }
   ],
   "source": [
    "# 2I\n",
    "lookup_stage = {\n",
    "    \"$lookup\": {\n",
    "        \"from\": \"reviews\",\n",
    "        \"localField\": \"record_id\",\n",
    "        \"foreignField\": \"record_id\",\n",
    "        \"as\": \"reviews\"\n",
    "    }\n",
    "}\n",
    "\n",
    "add_fields_stage = {\n",
    "    \"$addFields\": {\n",
    "        \"average_rating\": { \"$avg\": \"$reviews.rating\" }\n",
    "    }\n",
    "}\n",
    "\n",
    "match_stage = {\n",
    "    \"$match\": {\n",
    "        \"average_rating\": 4.0\n",
    "    }\n",
    "}\n",
    "\n",
    "unwind_stage = {\n",
    "    \"$unwind\": \"$songs\"\n",
    "}\n",
    "\n",
    "bpm_match_stage = {\n",
    "    \"$match\": {\n",
    "        \"songs.bpm\": { \"$lt\": 63 }\n",
    "    }\n",
    "}\n",
    "\n",
    "project_stage = {\n",
    "    \"$project\": {\n",
    "        \"_id\": 0,\n",
    "        \"record_id\": 1,\n",
    "        \"record_title\": \"$title\",\n",
    "        \"track_number\": \"$songs.track_number\",\n",
    "        \"song_title\": \"$songs.title\"\n",
    "    }\n",
    "}\n",
    "\n",
    "sample_stage = {\n",
    "    \"$sample\": { \"size\": 5 }\n",
    "}\n",
    "\n",
    "pipeline = [lookup_stage, add_fields_stage, match_stage, unwind_stage, bpm_match_stage, project_stage, sample_stage]\n",
    "\n",
    "cursor = zotmusic.records.aggregate(pipeline)\n",
    "print(dumps(cursor, indent=2))"
   ]
  },
  {
   "cell_type": "code",
   "execution_count": 24,
   "metadata": {
    "id": "i_bhO_WQgjnt"
   },
   "outputs": [
    {
     "name": "stdout",
     "output_type": "stream",
     "text": [
      "[\n",
      "  {\n",
      "    \"nickname\": \"prhodes\",\n",
      "    \"email\": \"prhodes@foxmail.com\"\n",
      "  },\n",
      "  {\n",
      "    \"nickname\": \"gomezbrittany\",\n",
      "    \"email\": \"gomezbrittany@foxmail.com\"\n",
      "  }\n",
      "]\n"
     ]
    }
   ],
   "source": [
    "# 2J\n",
    "lookup_sessions_stage = {\n",
    "    \"$lookup\": {\n",
    "        \"from\": \"sessions\",\n",
    "        \"localField\": \"user_id\",\n",
    "        \"foreignField\": \"user_id\",\n",
    "        \"as\": \"sessions\"\n",
    "    }\n",
    "}\n",
    "\n",
    "unwind_sessions_stage = {\n",
    "    \"$unwind\": \"$sessions\"\n",
    "}\n",
    "\n",
    "lookup_records_stage = {\n",
    "    \"$lookup\": {\n",
    "        \"from\": \"records\",\n",
    "        \"localField\": \"sessions.song.record_id\",\n",
    "        \"foreignField\": \"record_id\",\n",
    "        \"as\": \"records\"\n",
    "    }\n",
    "}\n",
    "\n",
    "unwind_records_stage = {\n",
    "    \"$unwind\": \"$records\"\n",
    "}\n",
    "\n",
    "match_conditions_stage = {\n",
    "    \"$match\": {\n",
    "        \"records.released_by.release_date\": { \"$gt\": \"2023-01-01\" },\n",
    "        \"sessions.replay_count\": { \"$gt\": 3 },\n",
    "        \"sessions.device\": \"mobile-app\"\n",
    "    }\n",
    "}\n",
    "\n",
    "group_by_user_stage = {\n",
    "    \"$group\": {\n",
    "        \"_id\": {\n",
    "            \"user_id\": \"$user_id\",\n",
    "            \"nickname\": \"$nickname\",\n",
    "            \"email\": \"$email\",\n",
    "            \"joined_date\": \"$joined_date\"\n",
    "        },\n",
    "        \"distinct_genres\": { \"$addToSet\": \"$records.genre\" }\n",
    "    }\n",
    "}\n",
    "\n",
    "add_genre_count_stage = {\n",
    "    \"$addFields\": {\n",
    "        \"genre_count\": { \"$size\": \"$distinct_genres\" }\n",
    "    }\n",
    "}\n",
    "\n",
    "having_genre_count_stage = {\n",
    "    \"$match\": {\n",
    "        \"genre_count\": { \"$gt\": 6 }\n",
    "    }\n",
    "}\n",
    "\n",
    "sort_stage = {\n",
    "    \"$sort\": {\n",
    "        \"_id.joined_date\": -1\n",
    "    }\n",
    "}\n",
    "\n",
    "limit_stage = {\n",
    "    \"$limit\": 2\n",
    "}\n",
    "\n",
    "project_stage = {\n",
    "    \"$project\": {\n",
    "        \"_id\": 0,\n",
    "        \"nickname\": \"$_id.nickname\",\n",
    "        \"email\": \"$_id.email\"\n",
    "    }\n",
    "}\n",
    "\n",
    "pipeline = [lookup_sessions_stage, unwind_sessions_stage, lookup_records_stage, unwind_records_stage, match_conditions_stage, \n",
    "            group_by_user_stage, add_genre_count_stage, having_genre_count_stage, sort_stage, limit_stage, project_stage]\n",
    "\n",
    "cursor = zotmusic.users.aggregate(pipeline)\n",
    "print(dumps(cursor, indent=2))"
   ]
  }
 ],
 "metadata": {
  "colab": {
   "provenance": []
  },
  "kernelspec": {
   "display_name": "Python 3 (ipykernel)",
   "language": "python",
   "name": "python3"
  },
  "language_info": {
   "codemirror_mode": {
    "name": "ipython",
    "version": 3
   },
   "file_extension": ".py",
   "mimetype": "text/x-python",
   "name": "python",
   "nbconvert_exporter": "python",
   "pygments_lexer": "ipython3",
   "version": "3.12.7"
  }
 },
 "nbformat": 4,
 "nbformat_minor": 4
}
