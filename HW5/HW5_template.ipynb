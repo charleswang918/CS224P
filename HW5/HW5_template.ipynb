{
 "cells": [
  {
   "cell_type": "markdown",
   "metadata": {
    "application/vnd.databricks.v1+cell": {
     "cellMetadata": {},
     "inputWidgets": {},
     "nuid": "da3cc60b-27e7-4ee2-943f-2fab63d8bb16",
     "showTitle": false,
     "tableResultSettingsMap": {},
     "title": ""
    },
    "id": "mtCkAlI0Tcj_"
   },
   "source": [
    "Assignment 5"
   ]
  },
  {
   "cell_type": "markdown",
   "metadata": {
    "application/vnd.databricks.v1+cell": {
     "cellMetadata": {},
     "inputWidgets": {},
     "nuid": "413b79cd-ad57-438c-889f-53885b9a9517",
     "showTitle": false,
     "tableResultSettingsMap": {},
     "title": ""
    },
    "id": "laGyHlaRTckD"
   },
   "source": [
    "setup environment (must run first)"
   ]
  },
  {
   "cell_type": "code",
   "execution_count": 0,
   "metadata": {
    "application/vnd.databricks.v1+cell": {
     "cellMetadata": {},
     "inputWidgets": {},
     "nuid": "ca8a612f-1857-4a77-9109-956c5e4f9e34",
     "showTitle": false,
     "tableResultSettingsMap": {},
     "title": ""
    },
    "id": "dF2EBx-CTckF"
   },
   "outputs": [],
   "source": [
    "%python\n",
    "# Delete or comment this block out when running the notebook on the full dataset\n",
    "users_df = spark.read.format(\"json\").option(\"multiline\", True).load(\"/FileStore/tables/zotmusic_sample/Users.json\")\n",
    "records_df = spark.read.format(\"json\").option(\"multiline\", True).load(\"/FileStore/tables/zotmusic_sample/Records.json\")\n",
    "sessions_df = spark.read.format(\"json\").option(\"multiline\", True).load(\"/FileStore/tables/zotmusic_sample/Sessions.json\")\n",
    "reviews_df = spark.read.format(\"json\").option(\"multiline\", True).load(\"/FileStore/tables/zotmusic_sample/Reviews.json\")\n",
    "upvotes_df = spark.read.format(\"json\").option(\"multiline\", True).load(\"/FileStore/tables/zotmusic_sample/Upvotes.json\")\n",
    "\n",
    "users_df.createOrReplaceTempView(\"users\")\n",
    "records_df.createOrReplaceTempView(\"records\")\n",
    "sessions_df.createOrReplaceTempView(\"sessions\")\n",
    "reviews_df.createOrReplaceTempView(\"reviews\")\n",
    "upvotes_df.createOrReplaceTempView(\"upvotes\")"
   ]
  },
  {
   "cell_type": "code",
   "execution_count": 0,
   "metadata": {
    "application/vnd.databricks.v1+cell": {
     "cellMetadata": {},
     "inputWidgets": {},
     "nuid": "51b16bf8-a171-4a13-a761-7a5cc26161e7",
     "showTitle": false,
     "tableResultSettingsMap": {},
     "title": ""
    }
   },
   "outputs": [],
   "source": [
    "# %python\n",
    "# # Uncomment this block when running the notebook on the full dataset (you must do this in the end before submitting the solution!)\n",
    "# users_df = spark.read.format(\"json\").option(\"multiline\", True).load(\"/FileStore/tables/zotmusic_full/Users.json\")\n",
    "# records_df = spark.read.format(\"json\").option(\"multiline\", True).load(\"/FileStore/tables/zotmusic_full/Records.json\")\n",
    "# sessions_df = spark.read.format(\"json\").option(\"multiline\", True).load(\"/FileStore/tables/zotmusic_full/Sessions.json\")\n",
    "# reviews_df = spark.read.format(\"json\").option(\"multiline\", True).load(\"/FileStore/tables/zotmusic_full/Reviews.json\")\n",
    "# upvotes_df = spark.read.format(\"json\").option(\"multiline\", True).load(\"/FileStore/tables/zotmusic_full/Upvotes.json\")\n",
    "\n",
    "# users_df.createOrReplaceTempView(\"users\")\n",
    "# records_df.createOrReplaceTempView(\"records\")\n",
    "# sessions_df.createOrReplaceTempView(\"sessions\")\n",
    "# reviews_df.createOrReplaceTempView(\"reviews\")\n",
    "# upvotes_df.createOrReplaceTempView(\"upvotes\")"
   ]
  },
  {
   "cell_type": "code",
   "execution_count": 0,
   "metadata": {
    "application/vnd.databricks.v1+cell": {
     "cellMetadata": {},
     "inputWidgets": {},
     "nuid": "49e22c1a-2c31-42fd-9440-3e1e850eeeaf",
     "showTitle": false,
     "tableResultSettingsMap": {},
     "title": ""
    },
    "id": "MfloTQVsk7-f"
   },
   "outputs": [],
   "source": [
    "%sql\n",
    "(select \"users\", count(*) from users)\n",
    "union all\n",
    "(select \"records\", count(*) from records)\n",
    "union all\n",
    "(select \"sessions\", count(*) from sessions)\n",
    "union all\n",
    "(select \"reviews\", count(*) from reviews)\n",
    "union all\n",
    "(select \"upvotes\", count(*) from upvotes)"
   ]
  },
  {
   "cell_type": "markdown",
   "metadata": {
    "application/vnd.databricks.v1+cell": {
     "cellMetadata": {},
     "inputWidgets": {},
     "nuid": "10a8a1c4-fcbb-42ed-b394-4f168dcca5f2",
     "showTitle": false,
     "tableResultSettingsMap": {},
     "title": ""
    },
    "id": "kJEEHy9YTckG"
   },
   "source": [
    "Solution"
   ]
  },
  {
   "cell_type": "code",
   "execution_count": 0,
   "metadata": {
    "application/vnd.databricks.v1+cell": {
     "cellMetadata": {},
     "inputWidgets": {},
     "nuid": "c15725fd-b568-483b-8578-687b9a921fa9",
     "showTitle": false,
     "tableResultSettingsMap": {},
     "title": ""
    },
    "id": "blsa8nv7TckG"
   },
   "outputs": [],
   "source": [
    "#1.A\n",
    "#1.B address data type is: "
   ]
  },
  {
   "cell_type": "code",
   "execution_count": 0,
   "metadata": {
    "application/vnd.databricks.v1+cell": {
     "cellMetadata": {},
     "inputWidgets": {},
     "nuid": "3c80e81b-f43a-4251-b7cd-beca07642bad",
     "showTitle": false,
     "tableResultSettingsMap": {},
     "title": ""
    },
    "id": "PntyrqV7TckH"
   },
   "outputs": [],
   "source": [
    "%sql\n",
    "--1.C\n",
    "--1.D songs data type is:"
   ]
  },
  {
   "cell_type": "code",
   "execution_count": 0,
   "metadata": {
    "application/vnd.databricks.v1+cell": {
     "cellMetadata": {},
     "inputWidgets": {},
     "nuid": "e4d32291-7932-4ddc-be2f-03279890e9dc",
     "showTitle": false,
     "tableResultSettingsMap": {},
     "title": ""
    },
    "id": "0hrotjUBTckH"
   },
   "outputs": [],
   "source": [
    "#2.A DF"
   ]
  },
  {
   "cell_type": "code",
   "execution_count": 0,
   "metadata": {
    "application/vnd.databricks.v1+cell": {
     "cellMetadata": {},
     "inputWidgets": {},
     "nuid": "1c1e59bf-898c-435e-9b85-06c9fa4934ad",
     "showTitle": false,
     "tableResultSettingsMap": {},
     "title": ""
    },
    "id": "0bGx0hKTTckI"
   },
   "outputs": [],
   "source": [
    "%sql\n",
    "--2.A SQL"
   ]
  },
  {
   "cell_type": "code",
   "execution_count": 0,
   "metadata": {
    "application/vnd.databricks.v1+cell": {
     "cellMetadata": {},
     "inputWidgets": {},
     "nuid": "a61561ec-216f-4b08-848a-3bb3d6114155",
     "showTitle": false,
     "tableResultSettingsMap": {},
     "title": ""
    },
    "id": "JheayP4DTckI"
   },
   "outputs": [],
   "source": [
    "#2.B DF"
   ]
  },
  {
   "cell_type": "code",
   "execution_count": 0,
   "metadata": {
    "application/vnd.databricks.v1+cell": {
     "cellMetadata": {},
     "inputWidgets": {},
     "nuid": "0d229496-8f69-40ff-896f-dc5ed391a8e1",
     "showTitle": false,
     "tableResultSettingsMap": {},
     "title": ""
    },
    "id": "D5EahZNVTckI"
   },
   "outputs": [],
   "source": [
    "%sql\n",
    "--2.B SQL"
   ]
  },
  {
   "cell_type": "code",
   "execution_count": 0,
   "metadata": {
    "application/vnd.databricks.v1+cell": {
     "cellMetadata": {},
     "inputWidgets": {},
     "nuid": "46630005-d630-49b2-9b5d-ac238899dd93",
     "showTitle": false,
     "tableResultSettingsMap": {},
     "title": ""
    },
    "id": "am9hMgiuTckJ"
   },
   "outputs": [],
   "source": [
    "#2.C DF"
   ]
  },
  {
   "cell_type": "code",
   "execution_count": 0,
   "metadata": {
    "application/vnd.databricks.v1+cell": {
     "cellMetadata": {},
     "inputWidgets": {},
     "nuid": "4ff4b50a-7b5c-4288-a564-d4c6cc8d6b79",
     "showTitle": false,
     "tableResultSettingsMap": {},
     "title": ""
    },
    "id": "Qpmv0ctQTckJ"
   },
   "outputs": [],
   "source": [
    "%sql\n",
    "--2.C SQL"
   ]
  },
  {
   "cell_type": "code",
   "execution_count": 0,
   "metadata": {
    "application/vnd.databricks.v1+cell": {
     "cellMetadata": {},
     "inputWidgets": {},
     "nuid": "2c8c4035-dc0b-4b78-ad42-7d3fc5357f88",
     "showTitle": false,
     "tableResultSettingsMap": {},
     "title": ""
    },
    "id": "7qExP11xTckJ"
   },
   "outputs": [],
   "source": [
    "#2.D DF"
   ]
  },
  {
   "cell_type": "code",
   "execution_count": 0,
   "metadata": {
    "application/vnd.databricks.v1+cell": {
     "cellMetadata": {},
     "inputWidgets": {},
     "nuid": "316b936f-b074-4cd2-a497-931c67cc75b6",
     "showTitle": false,
     "tableResultSettingsMap": {},
     "title": ""
    },
    "id": "YZuQ8G1XTckJ"
   },
   "outputs": [],
   "source": [
    "%sql\n",
    "--2.D SQL"
   ]
  },
  {
   "cell_type": "code",
   "execution_count": 0,
   "metadata": {
    "application/vnd.databricks.v1+cell": {
     "cellMetadata": {},
     "inputWidgets": {},
     "nuid": "4292fae8-352e-4432-8834-bba1a5b31311",
     "showTitle": false,
     "tableResultSettingsMap": {},
     "title": ""
    },
    "id": "fjOa5HmuTckJ"
   },
   "outputs": [],
   "source": [
    "#2.E DF"
   ]
  },
  {
   "cell_type": "code",
   "execution_count": 0,
   "metadata": {
    "application/vnd.databricks.v1+cell": {
     "cellMetadata": {},
     "inputWidgets": {},
     "nuid": "7af9d8b2-84d5-452e-b487-1091b05c6fc6",
     "showTitle": false,
     "tableResultSettingsMap": {},
     "title": ""
    },
    "id": "ocyL0lnrTckK"
   },
   "outputs": [],
   "source": [
    "%sql\n",
    "--2.E SQL"
   ]
  },
  {
   "cell_type": "code",
   "execution_count": 0,
   "metadata": {
    "application/vnd.databricks.v1+cell": {
     "cellMetadata": {},
     "inputWidgets": {},
     "nuid": "8fa4aead-d82f-4e78-90ff-10c14f92ca8a",
     "showTitle": false,
     "tableResultSettingsMap": {},
     "title": ""
    },
    "id": "knxJwKyhTckK"
   },
   "outputs": [],
   "source": [
    "#2.F DF"
   ]
  },
  {
   "cell_type": "code",
   "execution_count": 0,
   "metadata": {
    "application/vnd.databricks.v1+cell": {
     "cellMetadata": {},
     "inputWidgets": {},
     "nuid": "b3c963d6-4e54-43a4-9f0e-582142ee1b7b",
     "showTitle": false,
     "tableResultSettingsMap": {},
     "title": ""
    },
    "id": "Yi4BNOEpTckK"
   },
   "outputs": [],
   "source": [
    "%sql\n",
    "--2.F SQL"
   ]
  },
  {
   "cell_type": "code",
   "execution_count": 0,
   "metadata": {
    "application/vnd.databricks.v1+cell": {
     "cellMetadata": {},
     "inputWidgets": {},
     "nuid": "f43f33bc-53a2-4a4d-b965-7d8a3cfe9be5",
     "showTitle": false,
     "tableResultSettingsMap": {},
     "title": ""
    },
    "id": "oJsn1dOiLgh-"
   },
   "outputs": [],
   "source": [
    "#2.G DF"
   ]
  },
  {
   "cell_type": "code",
   "execution_count": 0,
   "metadata": {
    "application/vnd.databricks.v1+cell": {
     "cellMetadata": {},
     "inputWidgets": {},
     "nuid": "3f71897c-0a4e-40d7-bcfd-f86bdf8d4f01",
     "showTitle": false,
     "tableResultSettingsMap": {},
     "title": ""
    },
    "id": "cBGpAI6oTckK"
   },
   "outputs": [],
   "source": [
    "%sql\n",
    "--2.G SQL"
   ]
  },
  {
   "cell_type": "code",
   "execution_count": 0,
   "metadata": {
    "application/vnd.databricks.v1+cell": {
     "cellMetadata": {},
     "inputWidgets": {},
     "nuid": "8d4f9edf-e6ab-4202-96b1-e4bae5d8ec3e",
     "showTitle": false,
     "tableResultSettingsMap": {},
     "title": ""
    }
   },
   "outputs": [],
   "source": [
    "# 3 \n",
    "# Go BACK to the beginning and run the whole notebook on the full dataset, both in Databricks Community Version and Databricks Premium Version.\n",
    "# Write down your observations about the differences of using single-node community version vs. using multi-node premium version of Databricks."
   ]
  }
 ],
 "metadata": {
  "application/vnd.databricks.v1+notebook": {
   "dashboards": [],
   "environmentMetadata": null,
   "language": "python",
   "notebookMetadata": {
    "pythonIndentUnit": 2
   },
   "notebookName": "HW5_template",
   "widgets": {}
  },
  "colab": {
   "provenance": []
  },
  "kernelspec": {
   "display_name": "Python 3",
   "language": "python",
   "name": "python3"
  },
  "language_info": {
   "codemirror_mode": {
    "name": "ipython",
    "version": 3
   },
   "file_extension": ".py",
   "mimetype": "text/x-python",
   "name": "python",
   "nbconvert_exporter": "python",
   "pygments_lexer": "ipython3",
   "version": "3.9.1"
  },
  "name": "assignment6",
  "notebookId": 3656808739618655
 },
 "nbformat": 4,
 "nbformat_minor": 0
}
