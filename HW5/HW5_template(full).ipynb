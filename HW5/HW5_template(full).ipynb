{
 "cells": [
  {
   "cell_type": "markdown",
   "metadata": {
    "application/vnd.databricks.v1+cell": {
     "cellMetadata": {
      "byteLimit": 2048000,
      "rowLimit": 10000
     },
     "inputWidgets": {},
     "nuid": "b80fc73b-3691-4474-9a34-a12b64151cac",
     "showTitle": false,
     "tableResultSettingsMap": {},
     "title": ""
    }
   },
   "source": []
  },
  {
   "cell_type": "markdown",
   "metadata": {
    "application/vnd.databricks.v1+cell": {
     "cellMetadata": {
      "byteLimit": 2048000,
      "rowLimit": 10000
     },
     "inputWidgets": {},
     "nuid": "da3cc60b-27e7-4ee2-943f-2fab63d8bb16",
     "showTitle": false,
     "tableResultSettingsMap": {},
     "title": ""
    },
    "id": "mtCkAlI0Tcj_"
   },
   "source": [
    "Assignment 5"
   ]
  },
  {
   "cell_type": "markdown",
   "metadata": {
    "application/vnd.databricks.v1+cell": {
     "cellMetadata": {
      "byteLimit": 2048000,
      "rowLimit": 10000
     },
     "inputWidgets": {},
     "nuid": "413b79cd-ad57-438c-889f-53885b9a9517",
     "showTitle": false,
     "tableResultSettingsMap": {},
     "title": ""
    },
    "id": "laGyHlaRTckD"
   },
   "source": [
    "setup environment (must run first)"
   ]
  },
  {
   "cell_type": "code",
   "execution_count": 0,
   "metadata": {
    "application/vnd.databricks.v1+cell": {
     "cellMetadata": {
      "byteLimit": 2048000,
      "rowLimit": 10000
     },
     "inputWidgets": {},
     "nuid": "ca8a612f-1857-4a77-9109-956c5e4f9e34",
     "showTitle": false,
     "tableResultSettingsMap": {},
     "title": ""
    },
    "id": "dF2EBx-CTckF"
   },
   "outputs": [],
   "source": [
    "%python\n",
    "# Delete or comment this block out when running the notebook on the full dataset\n",
    "# users_df = spark.read.format(\"json\").option(\"multiline\", True).load(\"/FileStore/tables/zotmusic_sample/Users.json\")\n",
    "# records_df = spark.read.format(\"json\").option(\"multiline\", True).load(\"/FileStore/tables/zotmusic_sample/Records.json\")\n",
    "# sessions_df = spark.read.format(\"json\").option(\"multiline\", True).load(\"/FileStore/tables/zotmusic_sample/Sessions.json\")\n",
    "# reviews_df = spark.read.format(\"json\").option(\"multiline\", True).load(\"/FileStore/tables/zotmusic_sample/Reviews.json\")\n",
    "# upvotes_df = spark.read.format(\"json\").option(\"multiline\", True).load(\"/FileStore/tables/zotmusic_sample/Upvotes.json\")\n",
    "\n",
    "# users_df.createOrReplaceTempView(\"users\")\n",
    "# records_df.createOrReplaceTempView(\"records\")\n",
    "# sessions_df.createOrReplaceTempView(\"sessions\")\n",
    "# reviews_df.createOrReplaceTempView(\"reviews\")\n",
    "# upvotes_df.createOrReplaceTempView(\"upvotes\")"
   ]
  },
  {
   "cell_type": "code",
   "execution_count": 0,
   "metadata": {
    "application/vnd.databricks.v1+cell": {
     "cellMetadata": {
      "byteLimit": 2048000,
      "rowLimit": 10000
     },
     "inputWidgets": {},
     "nuid": "51b16bf8-a171-4a13-a761-7a5cc26161e7",
     "showTitle": false,
     "tableResultSettingsMap": {},
     "title": ""
    }
   },
   "outputs": [],
   "source": [
    "# %python\n",
    "# # Uncomment this block when running the notebook on the full dataset (you must do this in the end before submitting the solution!)\n",
    "users_df = spark.read.format(\"json\").option(\"multiline\", True).load(\"/FileStore/tables/zotmusic_full/Users.json\")\n",
    "records_df = spark.read.format(\"json\").option(\"multiline\", True).load(\"/FileStore/tables/zotmusic_full/Records.json\")\n",
    "sessions_df = spark.read.format(\"json\").option(\"multiline\", True).load(\"/FileStore/tables/zotmusic_full/Sessions.json\")\n",
    "reviews_df = spark.read.format(\"json\").option(\"multiline\", True).load(\"/FileStore/tables/zotmusic_full/Reviews.json\")\n",
    "upvotes_df = spark.read.format(\"json\").option(\"multiline\", True).load(\"/FileStore/tables/zotmusic_full/Upvotes.json\")\n",
    "\n",
    "users_df.createOrReplaceTempView(\"users\")\n",
    "records_df.createOrReplaceTempView(\"records\")\n",
    "sessions_df.createOrReplaceTempView(\"sessions\")\n",
    "reviews_df.createOrReplaceTempView(\"reviews\")\n",
    "upvotes_df.createOrReplaceTempView(\"upvotes\")"
   ]
  },
  {
   "cell_type": "code",
   "execution_count": 0,
   "metadata": {
    "application/vnd.databricks.v1+cell": {
     "cellMetadata": {
      "byteLimit": 2048000,
      "implicitDf": true,
      "rowLimit": 10000
     },
     "inputWidgets": {},
     "nuid": "49e22c1a-2c31-42fd-9440-3e1e850eeeaf",
     "showTitle": false,
     "tableResultSettingsMap": {},
     "title": ""
    },
    "id": "MfloTQVsk7-f"
   },
   "outputs": [
    {
     "output_type": "display_data",
     "data": {
      "text/html": [
       "<style scoped>\n",
       "  .table-result-container {\n",
       "    max-height: 300px;\n",
       "    overflow: auto;\n",
       "  }\n",
       "  table, th, td {\n",
       "    border: 1px solid black;\n",
       "    border-collapse: collapse;\n",
       "  }\n",
       "  th, td {\n",
       "    padding: 5px;\n",
       "  }\n",
       "  th {\n",
       "    text-align: left;\n",
       "  }\n",
       "</style><div class='table-result-container'><table class='table-result'><thead style='background-color: white'><tr><th>users</th><th>count(1)</th></tr></thead><tbody><tr><td>users</td><td>5000</td></tr><tr><td>records</td><td>100000</td></tr><tr><td>sessions</td><td>889979</td></tr><tr><td>reviews</td><td>962143</td></tr><tr><td>upvotes</td><td>9189735</td></tr></tbody></table></div>"
      ]
     },
     "metadata": {
      "application/vnd.databricks.v1+output": {
       "addedWidgets": {},
       "aggData": [],
       "aggError": "",
       "aggOverflow": false,
       "aggSchema": [],
       "aggSeriesLimitReached": false,
       "aggType": "",
       "arguments": {},
       "columnCustomDisplayInfos": {},
       "data": [
        [
         "users",
         5000
        ],
        [
         "records",
         100000
        ],
        [
         "sessions",
         889979
        ],
        [
         "reviews",
         962143
        ],
        [
         "upvotes",
         9189735
        ]
       ],
       "datasetInfos": [],
       "dbfsResultPath": null,
       "isJsonSchema": true,
       "metadata": {
        "createTempViewForImplicitDf": true,
        "dataframeName": "_sqldf",
        "executionCount": 3
       },
       "overflow": false,
       "plotOptions": {
        "customPlotOptions": {},
        "displayType": "table",
        "pivotAggregation": null,
        "pivotColumns": null,
        "xColumns": null,
        "yColumns": null
       },
       "removedWidgets": [],
       "schema": [
        {
         "metadata": "{}",
         "name": "users",
         "type": "\"string\""
        },
        {
         "metadata": "{\"__autoGeneratedAlias\":\"true\"}",
         "name": "count(1)",
         "type": "\"long\""
        }
       ],
       "type": "table"
      }
     },
     "output_type": "display_data"
    }
   ],
   "source": [
    "%sql\n",
    "(select \"users\", count(*) from users)\n",
    "union all\n",
    "(select \"records\", count(*) from records)\n",
    "union all\n",
    "(select \"sessions\", count(*) from sessions)\n",
    "union all\n",
    "(select \"reviews\", count(*) from reviews)\n",
    "union all\n",
    "(select \"upvotes\", count(*) from upvotes)"
   ]
  },
  {
   "cell_type": "markdown",
   "metadata": {
    "application/vnd.databricks.v1+cell": {
     "cellMetadata": {
      "byteLimit": 2048000,
      "rowLimit": 10000
     },
     "inputWidgets": {},
     "nuid": "10a8a1c4-fcbb-42ed-b394-4f168dcca5f2",
     "showTitle": false,
     "tableResultSettingsMap": {},
     "title": ""
    },
    "id": "kJEEHy9YTckG"
   },
   "source": [
    "Solution"
   ]
  },
  {
   "cell_type": "code",
   "execution_count": 0,
   "metadata": {
    "application/vnd.databricks.v1+cell": {
     "cellMetadata": {
      "byteLimit": 2048000,
      "rowLimit": 10000
     },
     "inputWidgets": {},
     "nuid": "c15725fd-b568-483b-8578-687b9a921fa9",
     "showTitle": false,
     "tableResultSettingsMap": {},
     "title": ""
    },
    "id": "blsa8nv7TckG"
   },
   "outputs": [
    {
     "output_type": "stream",
     "name": "stdout",
     "output_type": "stream",
     "text": [
      "root\n |-- address: struct (nullable = true)\n |    |-- city: string (nullable = true)\n |    |-- state: string (nullable = true)\n |    |-- street: string (nullable = true)\n |    |-- zip: string (nullable = true)\n |-- bio: string (nullable = true)\n |-- email: string (nullable = true)\n |-- genres: array (nullable = true)\n |    |-- element: string (containsNull = true)\n |-- is_artist: boolean (nullable = true)\n |-- is_listener: boolean (nullable = true)\n |-- joined_date: string (nullable = true)\n |-- nickname: string (nullable = true)\n |-- real_name: struct (nullable = true)\n |    |-- first_name: string (nullable = true)\n |    |-- last_name: string (nullable = true)\n |-- stage_name: string (nullable = true)\n |-- subscription: string (nullable = true)\n |-- user_id: string (nullable = true)\n\n"
     ]
    }
   ],
   "source": [
    "#1.A\n",
    "users_df.printSchema()\n",
    "\n",
    "#1.B address data type is: struct. It has 4 string fields: city, state, street and zip."
   ]
  },
  {
   "cell_type": "code",
   "execution_count": 0,
   "metadata": {
    "application/vnd.databricks.v1+cell": {
     "cellMetadata": {
      "byteLimit": 2048000,
      "implicitDf": true,
      "rowLimit": 10000
     },
     "inputWidgets": {},
     "nuid": "3c80e81b-f43a-4251-b7cd-beca07642bad",
     "showTitle": false,
     "tableResultSettingsMap": {},
     "title": ""
    },
    "id": "PntyrqV7TckH"
   },
   "outputs": [
    {
     "output_type": "display_data",
     "data": {
      "text/html": [
       "<style scoped>\n",
       "  .table-result-container {\n",
       "    max-height: 300px;\n",
       "    overflow: auto;\n",
       "  }\n",
       "  table, th, td {\n",
       "    border: 1px solid black;\n",
       "    border-collapse: collapse;\n",
       "  }\n",
       "  th, td {\n",
       "    padding: 5px;\n",
       "  }\n",
       "  th {\n",
       "    text-align: left;\n",
       "  }\n",
       "</style><div class='table-result-container'><table class='table-result'><thead style='background-color: white'><tr><th>col_name</th><th>data_type</th><th>comment</th></tr></thead><tbody><tr><td>description</td><td>string</td><td>null</td></tr><tr><td>genre</td><td>string</td><td>null</td></tr><tr><td>is_album</td><td>boolean</td><td>null</td></tr><tr><td>is_single</td><td>boolean</td><td>null</td></tr><tr><td>record_id</td><td>string</td><td>null</td></tr><tr><td>released_by</td><td>struct<artist_user_id:string,release_date:string></td><td>null</td></tr><tr><td>songs</td><td>array<struct<bpm:bigint,length:bigint,mood:string,title:string,track_number:bigint>></td><td>null</td></tr><tr><td>title</td><td>string</td><td>null</td></tr><tr><td>video_url</td><td>string</td><td>null</td></tr></tbody></table></div>"
      ]
     },
     "metadata": {
      "application/vnd.databricks.v1+output": {
       "addedWidgets": {},
       "aggData": [],
       "aggError": "",
       "aggOverflow": false,
       "aggSchema": [],
       "aggSeriesLimitReached": false,
       "aggType": "",
       "arguments": {},
       "columnCustomDisplayInfos": {},
       "data": [
        [
         "description",
         "string",
         null
        ],
        [
         "genre",
         "string",
         null
        ],
        [
         "is_album",
         "boolean",
         null
        ],
        [
         "is_single",
         "boolean",
         null
        ],
        [
         "record_id",
         "string",
         null
        ],
        [
         "released_by",
         "struct<artist_user_id:string,release_date:string>",
         null
        ],
        [
         "songs",
         "array<struct<bpm:bigint,length:bigint,mood:string,title:string,track_number:bigint>>",
         null
        ],
        [
         "title",
         "string",
         null
        ],
        [
         "video_url",
         "string",
         null
        ]
       ],
       "datasetInfos": [],
       "dbfsResultPath": null,
       "isJsonSchema": true,
       "metadata": {
        "createTempViewForImplicitDf": true,
        "dataframeName": "_sqldf",
        "executionCount": 5
       },
       "overflow": false,
       "plotOptions": {
        "customPlotOptions": {},
        "displayType": "table",
        "pivotAggregation": null,
        "pivotColumns": null,
        "xColumns": null,
        "yColumns": null
       },
       "removedWidgets": [],
       "schema": [
        {
         "metadata": "{\"comment\":\"name of the column\"}",
         "name": "col_name",
         "type": "\"string\""
        },
        {
         "metadata": "{\"comment\":\"data type of the column\"}",
         "name": "data_type",
         "type": "\"string\""
        },
        {
         "metadata": "{\"comment\":\"comment of the column\"}",
         "name": "comment",
         "type": "\"string\""
        }
       ],
       "type": "table"
      }
     },
     "output_type": "display_data"
    }
   ],
   "source": [
    "%sql\n",
    "--1.C\n",
    "DESCRIBE records;\n",
    "--1.D songs data type is: array<struct<bpm:bigint,length:bigint,mood:string,title:string,track_number:bigint>>"
   ]
  },
  {
   "cell_type": "code",
   "execution_count": 0,
   "metadata": {
    "application/vnd.databricks.v1+cell": {
     "cellMetadata": {
      "byteLimit": 2048000,
      "rowLimit": 10000
     },
     "inputWidgets": {},
     "nuid": "e4d32291-7932-4ddc-be2f-03279890e9dc",
     "showTitle": false,
     "tableResultSettingsMap": {},
     "title": ""
    },
    "id": "0hrotjUBTckH"
   },
   "outputs": [
    {
     "output_type": "stream",
     "name": "stdout",
     "output_type": "stream",
     "text": [
      "+--------------------+--------------------+--------------------+--------------------+---------+-----------+-----------+----------------+---------+-----------+------------+-----------------+\n|             address|                 bio|               email|              genres|is_artist|is_listener|joined_date|        nickname|real_name| stage_name|subscription|          user_id|\n+--------------------+--------------------+--------------------+--------------------+---------+-----------+-----------+----------------+---------+-----------+------------+-----------------+\n|{Joelmouth, NULL,...|Full computer tre...|katherinedelgado@...|[Techno, Rock, El...|     true|      false| 2019-05-04|katherinedelgado|     NULL|stacyobrien|        NULL|user_W2xxLgbyRoqp|\n+--------------------+--------------------+--------------------+--------------------+---------+-----------+-----------+----------------+---------+-----------+------------+-----------------+\n\n"
     ]
    }
   ],
   "source": [
    "#2.A DF\n",
    "users_df.filter(users_df.user_id == 'user_W2xxLgbyRoqp').show()"
   ]
  },
  {
   "cell_type": "code",
   "execution_count": 0,
   "metadata": {
    "application/vnd.databricks.v1+cell": {
     "cellMetadata": {
      "byteLimit": 2048000,
      "implicitDf": true,
      "rowLimit": 10000
     },
     "inputWidgets": {},
     "nuid": "1c1e59bf-898c-435e-9b85-06c9fa4934ad",
     "showTitle": false,
     "tableResultSettingsMap": {},
     "title": ""
    },
    "id": "0bGx0hKTTckI"
   },
   "outputs": [
    {
     "output_type": "display_data",
     "data": {
      "text/html": [
       "<style scoped>\n",
       "  .table-result-container {\n",
       "    max-height: 300px;\n",
       "    overflow: auto;\n",
       "  }\n",
       "  table, th, td {\n",
       "    border: 1px solid black;\n",
       "    border-collapse: collapse;\n",
       "  }\n",
       "  th, td {\n",
       "    padding: 5px;\n",
       "  }\n",
       "  th {\n",
       "    text-align: left;\n",
       "  }\n",
       "</style><div class='table-result-container'><table class='table-result'><thead style='background-color: white'><tr><th>address</th><th>bio</th><th>email</th><th>genres</th><th>is_artist</th><th>is_listener</th><th>joined_date</th><th>nickname</th><th>real_name</th><th>stage_name</th><th>subscription</th><th>user_id</th></tr></thead><tbody><tr><td>List(Joelmouth, null, 78374 Michael Centers Suite 220, 80418)</td><td>Full computer treat mention agreement. Also success or appear indeed admit.</td><td>katherinedelgado@gmail.com</td><td>List(Techno, Rock, Electronic, Country, Jazz, Punk)</td><td>true</td><td>false</td><td>2019-05-04</td><td>katherinedelgado</td><td>null</td><td>stacyobrien</td><td>null</td><td>user_W2xxLgbyRoqp</td></tr></tbody></table></div>"
      ]
     },
     "metadata": {
      "application/vnd.databricks.v1+output": {
       "addedWidgets": {},
       "aggData": [],
       "aggError": "",
       "aggOverflow": false,
       "aggSchema": [],
       "aggSeriesLimitReached": false,
       "aggType": "",
       "arguments": {},
       "columnCustomDisplayInfos": {},
       "data": [
        [
         [
          "Joelmouth",
          null,
          "78374 Michael Centers Suite 220",
          "80418"
         ],
         "Full computer treat mention agreement. Also success or appear indeed admit.",
         "katherinedelgado@gmail.com",
         [
          "Techno",
          "Rock",
          "Electronic",
          "Country",
          "Jazz",
          "Punk"
         ],
         true,
         false,
         "2019-05-04",
         "katherinedelgado",
         null,
         "stacyobrien",
         null,
         "user_W2xxLgbyRoqp"
        ]
       ],
       "datasetInfos": [],
       "dbfsResultPath": null,
       "isJsonSchema": true,
       "metadata": {
        "createTempViewForImplicitDf": true,
        "dataframeName": "_sqldf",
        "executionCount": 7
       },
       "overflow": false,
       "plotOptions": {
        "customPlotOptions": {},
        "displayType": "table",
        "pivotAggregation": null,
        "pivotColumns": null,
        "xColumns": null,
        "yColumns": null
       },
       "removedWidgets": [],
       "schema": [
        {
         "metadata": "{}",
         "name": "address",
         "type": "{\"type\":\"struct\",\"fields\":[{\"name\":\"city\",\"type\":\"string\",\"nullable\":true,\"metadata\":{}},{\"name\":\"state\",\"type\":\"string\",\"nullable\":true,\"metadata\":{}},{\"name\":\"street\",\"type\":\"string\",\"nullable\":true,\"metadata\":{}},{\"name\":\"zip\",\"type\":\"string\",\"nullable\":true,\"metadata\":{}}]}"
        },
        {
         "metadata": "{}",
         "name": "bio",
         "type": "\"string\""
        },
        {
         "metadata": "{}",
         "name": "email",
         "type": "\"string\""
        },
        {
         "metadata": "{}",
         "name": "genres",
         "type": "{\"type\":\"array\",\"elementType\":\"string\",\"containsNull\":true}"
        },
        {
         "metadata": "{}",
         "name": "is_artist",
         "type": "\"boolean\""
        },
        {
         "metadata": "{}",
         "name": "is_listener",
         "type": "\"boolean\""
        },
        {
         "metadata": "{}",
         "name": "joined_date",
         "type": "\"string\""
        },
        {
         "metadata": "{}",
         "name": "nickname",
         "type": "\"string\""
        },
        {
         "metadata": "{}",
         "name": "real_name",
         "type": "{\"type\":\"struct\",\"fields\":[{\"name\":\"first_name\",\"type\":\"string\",\"nullable\":true,\"metadata\":{}},{\"name\":\"last_name\",\"type\":\"string\",\"nullable\":true,\"metadata\":{}}]}"
        },
        {
         "metadata": "{}",
         "name": "stage_name",
         "type": "\"string\""
        },
        {
         "metadata": "{}",
         "name": "subscription",
         "type": "\"string\""
        },
        {
         "metadata": "{}",
         "name": "user_id",
         "type": "\"string\""
        }
       ],
       "type": "table"
      }
     },
     "output_type": "display_data"
    }
   ],
   "source": [
    "%sql\n",
    "--2.A SQL\n",
    "SELECT * \n",
    "FROM users \n",
    "WHERE user_id = 'user_W2xxLgbyRoqp';"
   ]
  },
  {
   "cell_type": "code",
   "execution_count": 0,
   "metadata": {
    "application/vnd.databricks.v1+cell": {
     "cellMetadata": {
      "byteLimit": 2048000,
      "rowLimit": 10000
     },
     "inputWidgets": {},
     "nuid": "a61561ec-216f-4b08-848a-3bb3d6114155",
     "showTitle": false,
     "tableResultSettingsMap": {},
     "title": ""
    },
    "id": "JheayP4DTckI"
   },
   "outputs": [
    {
     "output_type": "stream",
     "name": "stdout",
     "output_type": "stream",
     "text": [
      "+-----------------+-----+\n|          user_id|count|\n+-----------------+-----+\n|user_W5FmJadbR6OF|    8|\n|user_giDyfRSuSRKk|    7|\n|user_tylP-mPISHS1|    7|\n|user_h1_M1rkrRs-F|    7|\n|user_0lVVujY8RC6Y|    7|\n+-----------------+-----+\n\n"
     ]
    }
   ],
   "source": [
    "#2.B DF\n",
    "pop_records_df = records_df.filter(records_df.genre == \"Pop\")\n",
    "\n",
    "pop_record_count_df = (\n",
    "    pop_records_df.groupBy(pop_records_df.released_by.artist_user_id.alias(\"user_id\"))\n",
    "    .count()\n",
    "    .orderBy(\"count\", ascending=False)\n",
    ")\n",
    "\n",
    "pop_record_count_df.limit(5).show()\n"
   ]
  },
  {
   "cell_type": "code",
   "execution_count": 0,
   "metadata": {
    "application/vnd.databricks.v1+cell": {
     "cellMetadata": {
      "byteLimit": 2048000,
      "implicitDf": true,
      "rowLimit": 10000
     },
     "inputWidgets": {},
     "nuid": "0d229496-8f69-40ff-896f-dc5ed391a8e1",
     "showTitle": false,
     "tableResultSettingsMap": {},
     "title": ""
    },
    "id": "D5EahZNVTckI"
   },
   "outputs": [
    {
     "output_type": "display_data",
     "data": {
      "text/html": [
       "<style scoped>\n",
       "  .table-result-container {\n",
       "    max-height: 300px;\n",
       "    overflow: auto;\n",
       "  }\n",
       "  table, th, td {\n",
       "    border: 1px solid black;\n",
       "    border-collapse: collapse;\n",
       "  }\n",
       "  th, td {\n",
       "    padding: 5px;\n",
       "  }\n",
       "  th {\n",
       "    text-align: left;\n",
       "  }\n",
       "</style><div class='table-result-container'><table class='table-result'><thead style='background-color: white'><tr><th>user_id</th><th>num_pop_records</th></tr></thead><tbody><tr><td>user_W5FmJadbR6OF</td><td>8</td></tr><tr><td>user_giDyfRSuSRKk</td><td>7</td></tr><tr><td>user_tylP-mPISHS1</td><td>7</td></tr><tr><td>user_h1_M1rkrRs-F</td><td>7</td></tr><tr><td>user_0lVVujY8RC6Y</td><td>7</td></tr></tbody></table></div>"
      ]
     },
     "metadata": {
      "application/vnd.databricks.v1+output": {
       "addedWidgets": {},
       "aggData": [],
       "aggError": "",
       "aggOverflow": false,
       "aggSchema": [],
       "aggSeriesLimitReached": false,
       "aggType": "",
       "arguments": {},
       "columnCustomDisplayInfos": {},
       "data": [
        [
         "user_W5FmJadbR6OF",
         8
        ],
        [
         "user_giDyfRSuSRKk",
         7
        ],
        [
         "user_tylP-mPISHS1",
         7
        ],
        [
         "user_h1_M1rkrRs-F",
         7
        ],
        [
         "user_0lVVujY8RC6Y",
         7
        ]
       ],
       "datasetInfos": [],
       "dbfsResultPath": null,
       "isJsonSchema": true,
       "metadata": {
        "createTempViewForImplicitDf": true,
        "dataframeName": "_sqldf",
        "executionCount": 9
       },
       "overflow": false,
       "plotOptions": {
        "customPlotOptions": {},
        "displayType": "table",
        "pivotAggregation": null,
        "pivotColumns": null,
        "xColumns": null,
        "yColumns": null
       },
       "removedWidgets": [],
       "schema": [
        {
         "metadata": "{}",
         "name": "user_id",
         "type": "\"string\""
        },
        {
         "metadata": "{}",
         "name": "num_pop_records",
         "type": "\"long\""
        }
       ],
       "type": "table"
      }
     },
     "output_type": "display_data"
    }
   ],
   "source": [
    "%sql\n",
    "--2.B SQL\n",
    "SELECT released_by.artist_user_id AS user_id, COUNT(record_id) AS num_pop_records\n",
    "FROM records\n",
    "WHERE genre = 'Pop'\n",
    "GROUP BY released_by.artist_user_id\n",
    "ORDER BY num_pop_records DESC\n",
    "LIMIT 5;"
   ]
  },
  {
   "cell_type": "code",
   "execution_count": 0,
   "metadata": {
    "application/vnd.databricks.v1+cell": {
     "cellMetadata": {
      "byteLimit": 2048000,
      "rowLimit": 10000
     },
     "inputWidgets": {},
     "nuid": "46630005-d630-49b2-9b5d-ac238899dd93",
     "showTitle": false,
     "tableResultSettingsMap": {},
     "title": ""
    },
    "id": "am9hMgiuTckJ"
   },
   "outputs": [
    {
     "output_type": "stream",
     "name": "stdout",
     "output_type": "stream",
     "text": [
      "+-------------------+------------+-------------+\n|          record_id|track_number|session_count|\n+-------------------+------------+-------------+\n|record_llStZtAYQfiA|          11|          887|\n|record_rv-yMzjfQSC_|           1|          866|\n|record_U-VuvQ46SD6p|           2|            3|\n+-------------------+------------+-------------+\n\n"
     ]
    }
   ],
   "source": [
    "#2.C DF\n",
    "from pyspark.sql.functions import year, month, col, count, desc\n",
    "november_sessions_df = sessions_df.filter(\n",
    "    (year(col(\"session_duration.initiate_at\")) == 2023) & \n",
    "    (month(col(\"session_duration.initiate_at\")) == 11)\n",
    ")\n",
    "\n",
    "most_streamed_songs_df = (\n",
    "    november_sessions_df.groupBy(\"song.record_id\", \"song.track_number\")\n",
    "    .agg(count(\"*\").alias(\"session_count\"))\n",
    "    .orderBy(desc(\"session_count\"))\n",
    ")\n",
    "\n",
    "most_streamed_songs_df.limit(3).show()\n",
    "\n"
   ]
  },
  {
   "cell_type": "code",
   "execution_count": 0,
   "metadata": {
    "application/vnd.databricks.v1+cell": {
     "cellMetadata": {
      "byteLimit": 2048000,
      "implicitDf": true,
      "rowLimit": 10000
     },
     "inputWidgets": {},
     "nuid": "4ff4b50a-7b5c-4288-a564-d4c6cc8d6b79",
     "showTitle": false,
     "tableResultSettingsMap": {},
     "title": ""
    },
    "id": "Qpmv0ctQTckJ"
   },
   "outputs": [
    {
     "output_type": "display_data",
     "data": {
      "text/html": [
       "<style scoped>\n",
       "  .table-result-container {\n",
       "    max-height: 300px;\n",
       "    overflow: auto;\n",
       "  }\n",
       "  table, th, td {\n",
       "    border: 1px solid black;\n",
       "    border-collapse: collapse;\n",
       "  }\n",
       "  th, td {\n",
       "    padding: 5px;\n",
       "  }\n",
       "  th {\n",
       "    text-align: left;\n",
       "  }\n",
       "</style><div class='table-result-container'><table class='table-result'><thead style='background-color: white'><tr><th>record_id</th><th>track_number</th><th>session_count</th></tr></thead><tbody><tr><td>record_llStZtAYQfiA</td><td>11</td><td>887</td></tr><tr><td>record_rv-yMzjfQSC_</td><td>1</td><td>866</td></tr><tr><td>record_U-VuvQ46SD6p</td><td>2</td><td>3</td></tr></tbody></table></div>"
      ]
     },
     "metadata": {
      "application/vnd.databricks.v1+output": {
       "addedWidgets": {},
       "aggData": [],
       "aggError": "",
       "aggOverflow": false,
       "aggSchema": [],
       "aggSeriesLimitReached": false,
       "aggType": "",
       "arguments": {},
       "columnCustomDisplayInfos": {},
       "data": [
        [
         "record_llStZtAYQfiA",
         11,
         887
        ],
        [
         "record_rv-yMzjfQSC_",
         1,
         866
        ],
        [
         "record_U-VuvQ46SD6p",
         2,
         3
        ]
       ],
       "datasetInfos": [],
       "dbfsResultPath": null,
       "isJsonSchema": true,
       "metadata": {
        "createTempViewForImplicitDf": true,
        "dataframeName": "_sqldf",
        "executionCount": 11
       },
       "overflow": false,
       "plotOptions": {
        "customPlotOptions": {},
        "displayType": "table",
        "pivotAggregation": null,
        "pivotColumns": null,
        "xColumns": null,
        "yColumns": null
       },
       "removedWidgets": [],
       "schema": [
        {
         "metadata": "{}",
         "name": "record_id",
         "type": "\"string\""
        },
        {
         "metadata": "{}",
         "name": "track_number",
         "type": "\"long\""
        },
        {
         "metadata": "{}",
         "name": "session_count",
         "type": "\"long\""
        }
       ],
       "type": "table"
      }
     },
     "output_type": "display_data"
    }
   ],
   "source": [
    "%sql\n",
    "--2.C SQL\n",
    "SELECT song.record_id, song.track_number, COUNT(*) AS session_count\n",
    "FROM sessions\n",
    "WHERE YEAR(session_duration.initiate_at) = 2023 AND MONTH(session_duration.initiate_at) = 11\n",
    "GROUP BY song.record_id, song.track_number\n",
    "ORDER BY session_count DESC\n",
    "LIMIT 3;"
   ]
  },
  {
   "cell_type": "code",
   "execution_count": 0,
   "metadata": {
    "application/vnd.databricks.v1+cell": {
     "cellMetadata": {
      "byteLimit": 2048000,
      "rowLimit": 10000
     },
     "inputWidgets": {},
     "nuid": "2c8c4035-dc0b-4b78-ad42-7d3fc5357f88",
     "showTitle": false,
     "tableResultSettingsMap": {},
     "title": ""
    },
    "id": "7qExP11xTckJ"
   },
   "outputs": [
    {
     "output_type": "stream",
     "name": "stdout",
     "output_type": "stream",
     "text": [
      "+-----+----------------+\n|genre|interested_users|\n+-----+----------------+\n| Funk|            1203|\n+-----+----------------+\nonly showing top 1 row\n\n"
     ]
    }
   ],
   "source": [
    "#2.D DF\n",
    "from pyspark.sql.functions import explode, col, count, desc\n",
    "\n",
    "exploded_genres_df = users_df.select(explode(col(\"genres\")).alias(\"genre\"))\n",
    "\n",
    "genre_interest_df = (\n",
    "    exploded_genres_df.groupBy(\"genre\")\n",
    "    .agg(count(\"*\").alias(\"interested_users\"))\n",
    "    .orderBy(desc(\"interested_users\"))\n",
    ")\n",
    "\n",
    "genre_interest_df.show(1)\n"
   ]
  },
  {
   "cell_type": "code",
   "execution_count": 0,
   "metadata": {
    "application/vnd.databricks.v1+cell": {
     "cellMetadata": {
      "byteLimit": 2048000,
      "implicitDf": true,
      "rowLimit": 10000
     },
     "inputWidgets": {},
     "nuid": "316b936f-b074-4cd2-a497-931c67cc75b6",
     "showTitle": false,
     "tableResultSettingsMap": {},
     "title": ""
    },
    "id": "YZuQ8G1XTckJ"
   },
   "outputs": [
    {
     "output_type": "display_data",
     "data": {
      "text/html": [
       "<style scoped>\n",
       "  .table-result-container {\n",
       "    max-height: 300px;\n",
       "    overflow: auto;\n",
       "  }\n",
       "  table, th, td {\n",
       "    border: 1px solid black;\n",
       "    border-collapse: collapse;\n",
       "  }\n",
       "  th, td {\n",
       "    padding: 5px;\n",
       "  }\n",
       "  th {\n",
       "    text-align: left;\n",
       "  }\n",
       "</style><div class='table-result-container'><table class='table-result'><thead style='background-color: white'><tr><th>genre</th><th>interested_users</th></tr></thead><tbody><tr><td>Funk</td><td>1203</td></tr></tbody></table></div>"
      ]
     },
     "metadata": {
      "application/vnd.databricks.v1+output": {
       "addedWidgets": {},
       "aggData": [],
       "aggError": "",
       "aggOverflow": false,
       "aggSchema": [],
       "aggSeriesLimitReached": false,
       "aggType": "",
       "arguments": {},
       "columnCustomDisplayInfos": {},
       "data": [
        [
         "Funk",
         1203
        ]
       ],
       "datasetInfos": [],
       "dbfsResultPath": null,
       "isJsonSchema": true,
       "metadata": {
        "createTempViewForImplicitDf": true,
        "dataframeName": "_sqldf",
        "executionCount": 13
       },
       "overflow": false,
       "plotOptions": {
        "customPlotOptions": {},
        "displayType": "table",
        "pivotAggregation": null,
        "pivotColumns": null,
        "xColumns": null,
        "yColumns": null
       },
       "removedWidgets": [],
       "schema": [
        {
         "metadata": "{}",
         "name": "genre",
         "type": "\"string\""
        },
        {
         "metadata": "{}",
         "name": "interested_users",
         "type": "\"long\""
        }
       ],
       "type": "table"
      }
     },
     "output_type": "display_data"
    }
   ],
   "source": [
    "%sql\n",
    "--2.D SQL\n",
    "SELECT genre, COUNT(*) AS interested_users\n",
    "FROM (SELECT EXPLODE(genres) AS genre FROM users) exploded_genres\n",
    "GROUP BY genre\n",
    "ORDER BY interested_users DESC\n",
    "LIMIT 1;\n"
   ]
  },
  {
   "cell_type": "code",
   "execution_count": 0,
   "metadata": {
    "application/vnd.databricks.v1+cell": {
     "cellMetadata": {
      "byteLimit": 2048000,
      "rowLimit": 10000
     },
     "inputWidgets": {},
     "nuid": "4292fae8-352e-4432-8834-bba1a5b31311",
     "showTitle": false,
     "tableResultSettingsMap": {},
     "title": ""
    },
    "id": "fjOa5HmuTckJ"
   },
   "outputs": [
    {
     "output_type": "stream",
     "name": "stdout",
     "output_type": "stream",
     "text": [
      "+-------------------+--------------------+-------------------+\n|          review_id|               email|        posted_time|\n+-------------------+--------------------+-------------------+\n|review_aArS-aRvRyG5|robertsaunders@gm...|2024-08-03 00:00:31|\n|review_O-V9LubWTBKR|biancadavis@iclou...|2024-08-03 00:01:00|\n|review_rNdhyxyxQxud|andrewwatkins@fox...|2024-08-03 00:02:01|\n|review_xAEdPYgfSGiS|walleraudrey@gmai...|2024-08-03 00:02:07|\n|review_2e4fbC-zSWO8|riverakelsey@yaho...|2024-08-03 00:02:39|\n+-------------------+--------------------+-------------------+\n\n"
     ]
    }
   ],
   "source": [
    "#2.E DF\n",
    "from pyspark.sql.functions import col, to_date\n",
    "\n",
    "filtered_reviews_df = reviews_df.filter(\n",
    "    (to_date(col(\"posted_by.posted_time\")) >= \"2024-08-03\") &\n",
    "    (to_date(col(\"posted_by.posted_time\")) < \"2024-09-08\")\n",
    ")\n",
    "\n",
    "joined_df = filtered_reviews_df.join(users_df, col(\"posted_by.user_id\") == col(\"user_id\"))\n",
    "\n",
    "result_df = (\n",
    "    joined_df.select(\"review_id\", \"email\", col(\"posted_by.posted_time\").alias(\"posted_time\"))\n",
    "    .orderBy(col(\"posted_time\").asc())\n",
    "    .limit(5)\n",
    ")\n",
    "\n",
    "result_df.show()\n",
    "\n"
   ]
  },
  {
   "cell_type": "code",
   "execution_count": 0,
   "metadata": {
    "application/vnd.databricks.v1+cell": {
     "cellMetadata": {
      "byteLimit": 2048000,
      "implicitDf": true,
      "rowLimit": 10000
     },
     "inputWidgets": {},
     "nuid": "7af9d8b2-84d5-452e-b487-1091b05c6fc6",
     "showTitle": false,
     "tableResultSettingsMap": {},
     "title": ""
    },
    "id": "ocyL0lnrTckK"
   },
   "outputs": [
    {
     "output_type": "display_data",
     "data": {
      "text/html": [
       "<style scoped>\n",
       "  .table-result-container {\n",
       "    max-height: 300px;\n",
       "    overflow: auto;\n",
       "  }\n",
       "  table, th, td {\n",
       "    border: 1px solid black;\n",
       "    border-collapse: collapse;\n",
       "  }\n",
       "  th, td {\n",
       "    padding: 5px;\n",
       "  }\n",
       "  th {\n",
       "    text-align: left;\n",
       "  }\n",
       "</style><div class='table-result-container'><table class='table-result'><thead style='background-color: white'><tr><th>review_id</th><th>email</th><th>posted_time</th></tr></thead><tbody><tr><td>review_aArS-aRvRyG5</td><td>robertsaunders@gmail.com</td><td>2024-08-03 00:00:31</td></tr><tr><td>review_O-V9LubWTBKR</td><td>biancadavis@icloud.com</td><td>2024-08-03 00:01:00</td></tr><tr><td>review_rNdhyxyxQxud</td><td>andrewwatkins@foxmail.com</td><td>2024-08-03 00:02:01</td></tr><tr><td>review_xAEdPYgfSGiS</td><td>walleraudrey@gmail.com</td><td>2024-08-03 00:02:07</td></tr><tr><td>review_2e4fbC-zSWO8</td><td>riverakelsey@yahoo.com</td><td>2024-08-03 00:02:39</td></tr></tbody></table></div>"
      ]
     },
     "metadata": {
      "application/vnd.databricks.v1+output": {
       "addedWidgets": {},
       "aggData": [],
       "aggError": "",
       "aggOverflow": false,
       "aggSchema": [],
       "aggSeriesLimitReached": false,
       "aggType": "",
       "arguments": {},
       "columnCustomDisplayInfos": {},
       "data": [
        [
         "review_aArS-aRvRyG5",
         "robertsaunders@gmail.com",
         "2024-08-03 00:00:31"
        ],
        [
         "review_O-V9LubWTBKR",
         "biancadavis@icloud.com",
         "2024-08-03 00:01:00"
        ],
        [
         "review_rNdhyxyxQxud",
         "andrewwatkins@foxmail.com",
         "2024-08-03 00:02:01"
        ],
        [
         "review_xAEdPYgfSGiS",
         "walleraudrey@gmail.com",
         "2024-08-03 00:02:07"
        ],
        [
         "review_2e4fbC-zSWO8",
         "riverakelsey@yahoo.com",
         "2024-08-03 00:02:39"
        ]
       ],
       "datasetInfos": [],
       "dbfsResultPath": null,
       "isJsonSchema": true,
       "metadata": {
        "createTempViewForImplicitDf": true,
        "dataframeName": "_sqldf",
        "executionCount": 15
       },
       "overflow": false,
       "plotOptions": {
        "customPlotOptions": {},
        "displayType": "table",
        "pivotAggregation": null,
        "pivotColumns": null,
        "xColumns": null,
        "yColumns": null
       },
       "removedWidgets": [],
       "schema": [
        {
         "metadata": "{}",
         "name": "review_id",
         "type": "\"string\""
        },
        {
         "metadata": "{}",
         "name": "email",
         "type": "\"string\""
        },
        {
         "metadata": "{}",
         "name": "posted_time",
         "type": "\"string\""
        }
       ],
       "type": "table"
      }
     },
     "output_type": "display_data"
    }
   ],
   "source": [
    "%sql\n",
    "--2.E SQL\n",
    "SELECT reviews.review_id, users.email, reviews.posted_by.posted_time AS posted_time\n",
    "FROM reviews\n",
    "JOIN users\n",
    "ON reviews.posted_by.user_id = users.user_id\n",
    "WHERE DATE(reviews.posted_by.posted_time) >= '2024-08-03' \n",
    "AND DATE(reviews.posted_by.posted_time) < '2024-09-08'\n",
    "ORDER BY reviews.posted_by.posted_time ASC\n",
    "LIMIT 5;\n"
   ]
  },
  {
   "cell_type": "code",
   "execution_count": 0,
   "metadata": {
    "application/vnd.databricks.v1+cell": {
     "cellMetadata": {
      "byteLimit": 2048000,
      "rowLimit": 10000
     },
     "inputWidgets": {},
     "nuid": "8fa4aead-d82f-4e78-90ff-10c14f92ca8a",
     "showTitle": false,
     "tableResultSettingsMap": {},
     "title": ""
    },
    "id": "knxJwKyhTckK"
   },
   "outputs": [
    {
     "output_type": "stream",
     "name": "stdout",
     "output_type": "stream",
     "text": [
      "+--------------------+-------------+\n|               email|total_upvotes|\n+--------------------+-------------+\n|leejames@protonma...|         4682|\n|orodriguez@gmail.com|         4626|\n|    qbrown@yahoo.com|         4622|\n+--------------------+-------------+\n\n"
     ]
    }
   ],
   "source": [
    "#2.F DF\n",
    "from pyspark.sql.functions import col, count, desc\n",
    "\n",
    "reviews_df = reviews_df.withColumn(\"posted_by_user_id\", col(\"posted_by.user_id\"))\n",
    "\n",
    "upvotes_reviews_df = upvotes_df.join(reviews_df, upvotes_df[\"review_id\"] == reviews_df[\"review_id\"])\n",
    "\n",
    "upvotes_reviews_users_df = upvotes_reviews_df.join(\n",
    "    users_df, upvotes_reviews_df[\"posted_by_user_id\"] == users_df[\"user_id\"]\n",
    ")\n",
    "\n",
    "result_df = (\n",
    "    upvotes_reviews_users_df.groupBy(\"email\")\n",
    "    .agg(count(\"*\").alias(\"total_upvotes\"))\n",
    "    .orderBy(desc(\"total_upvotes\"))\n",
    "    .limit(3)\n",
    ")\n",
    "\n",
    "result_df.show()\n",
    "\n"
   ]
  },
  {
   "cell_type": "code",
   "execution_count": 0,
   "metadata": {
    "application/vnd.databricks.v1+cell": {
     "cellMetadata": {
      "byteLimit": 2048000,
      "implicitDf": true,
      "rowLimit": 10000
     },
     "inputWidgets": {},
     "nuid": "b3c963d6-4e54-43a4-9f0e-582142ee1b7b",
     "showTitle": false,
     "tableResultSettingsMap": {},
     "title": ""
    },
    "id": "Yi4BNOEpTckK"
   },
   "outputs": [
    {
     "output_type": "display_data",
     "data": {
      "text/html": [
       "<style scoped>\n",
       "  .table-result-container {\n",
       "    max-height: 300px;\n",
       "    overflow: auto;\n",
       "  }\n",
       "  table, th, td {\n",
       "    border: 1px solid black;\n",
       "    border-collapse: collapse;\n",
       "  }\n",
       "  th, td {\n",
       "    padding: 5px;\n",
       "  }\n",
       "  th {\n",
       "    text-align: left;\n",
       "  }\n",
       "</style><div class='table-result-container'><table class='table-result'><thead style='background-color: white'><tr><th>email</th><th>total_upvotes</th></tr></thead><tbody><tr><td>leejames@protonmail.com</td><td>4682</td></tr><tr><td>orodriguez@gmail.com</td><td>4626</td></tr><tr><td>qbrown@yahoo.com</td><td>4622</td></tr></tbody></table></div>"
      ]
     },
     "metadata": {
      "application/vnd.databricks.v1+output": {
       "addedWidgets": {},
       "aggData": [],
       "aggError": "",
       "aggOverflow": false,
       "aggSchema": [],
       "aggSeriesLimitReached": false,
       "aggType": "",
       "arguments": {},
       "columnCustomDisplayInfos": {},
       "data": [
        [
         "leejames@protonmail.com",
         4682
        ],
        [
         "orodriguez@gmail.com",
         4626
        ],
        [
         "qbrown@yahoo.com",
         4622
        ]
       ],
       "datasetInfos": [],
       "dbfsResultPath": null,
       "isJsonSchema": true,
       "metadata": {
        "createTempViewForImplicitDf": true,
        "dataframeName": "_sqldf",
        "executionCount": 17
       },
       "overflow": false,
       "plotOptions": {
        "customPlotOptions": {},
        "displayType": "table",
        "pivotAggregation": null,
        "pivotColumns": null,
        "xColumns": null,
        "yColumns": null
       },
       "removedWidgets": [],
       "schema": [
        {
         "metadata": "{}",
         "name": "email",
         "type": "\"string\""
        },
        {
         "metadata": "{}",
         "name": "total_upvotes",
         "type": "\"long\""
        }
       ],
       "type": "table"
      }
     },
     "output_type": "display_data"
    }
   ],
   "source": [
    "%sql\n",
    "--2.F SQL\n",
    "SELECT users.email, COUNT(upvotes.review_id) AS total_upvotes\n",
    "FROM upvotes\n",
    "JOIN reviews\n",
    "ON upvotes.review_id = reviews.review_id\n",
    "JOIN users\n",
    "ON reviews.posted_by.user_id = users.user_id\n",
    "GROUP BY users.email\n",
    "ORDER BY total_upvotes DESC\n",
    "LIMIT 3;\n"
   ]
  },
  {
   "cell_type": "code",
   "execution_count": 0,
   "metadata": {
    "application/vnd.databricks.v1+cell": {
     "cellMetadata": {
      "byteLimit": 2048000,
      "rowLimit": 10000
     },
     "inputWidgets": {},
     "nuid": "f43f33bc-53a2-4a4d-b965-7d8a3cfe9be5",
     "showTitle": false,
     "tableResultSettingsMap": {},
     "title": ""
    },
    "id": "oJsn1dOiLgh-"
   },
   "outputs": [
    {
     "output_type": "stream",
     "name": "stdout",
     "output_type": "stream",
     "text": [
      "+-----------------+------------------+-----------------------+----------+----------+\n|   artist_user_id|              acrr|total_certified_ratings|first_name| last_name|\n+-----------------+------------------+-----------------------+----------+----------+\n|user_BNTubG2nQCaO|3.4583333333333335|                     96|   Kristen|     Lopez|\n|user_sEETlirSSTC5|3.4285714285714284|                     98|      NULL|      NULL|\n|user_158lawlPQSSz| 3.382716049382716|                     81|      NULL|      NULL|\n|user_DYywyDQ0TPKC|3.3707865168539324|                     89|     Kelly|     Baker|\n|user_id0U530vTYOJ| 3.369047619047619|                     84|  Jennifer|Richardson|\n+-----------------+------------------+-----------------------+----------+----------+\n\n"
     ]
    }
   ],
   "source": [
    "#2.G DF\n",
    "from pyspark.sql.functions import col, avg, count, desc\n",
    "\n",
    "active_listeners_df = sessions_df.groupBy(\"user_id\").count().filter(col(\"count\") >= 275)\n",
    "\n",
    "certified_reviews_df = (\n",
    "    upvotes_df.groupBy(\"review_id\").count().filter(col(\"count\") >= 5)\n",
    "    .join(reviews_df, \"review_id\")\n",
    "    .join(active_listeners_df, reviews_df.posted_by.user_id == active_listeners_df.user_id)\n",
    ")\n",
    "\n",
    "artist_certified_ratings_df = certified_reviews_df.join(\n",
    "    records_df, \"record_id\"\n",
    ").select(\n",
    "    records_df.released_by.artist_user_id.alias(\"artist_user_id\"),\n",
    "    certified_reviews_df.rating.alias(\"certified_rating\")\n",
    ")\n",
    "\n",
    "artist_acrr_df = artist_certified_ratings_df.groupBy(\"artist_user_id\").agg(\n",
    "    avg(\"certified_rating\").alias(\"acrr\"),\n",
    "    count(\"certified_rating\").alias(\"total_certified_ratings\")\n",
    ")\n",
    "\n",
    "users_df = users_df.withColumn(\"first_name\", col(\"real_name.first_name\"))\n",
    "users_df = users_df.withColumn(\"last_name\", col(\"real_name.last_name\"))\n",
    "\n",
    "artist_details_df = artist_acrr_df.join(\n",
    "    users_df, artist_acrr_df.artist_user_id == users_df.user_id\n",
    ").select(\n",
    "    \"artist_user_id\",\n",
    "    \"acrr\",\n",
    "    \"total_certified_ratings\",\n",
    "    \"first_name\",\n",
    "    \"last_name\"\n",
    ")\n",
    "\n",
    "top_artists_df = artist_details_df.orderBy(desc(\"acrr\")).limit(5)\n",
    "\n",
    "top_artists_df.show()\n",
    "\n",
    "\n",
    "\n"
   ]
  },
  {
   "cell_type": "code",
   "execution_count": 0,
   "metadata": {
    "application/vnd.databricks.v1+cell": {
     "cellMetadata": {
      "byteLimit": 2048000,
      "implicitDf": true,
      "rowLimit": 10000
     },
     "inputWidgets": {},
     "nuid": "3f71897c-0a4e-40d7-bcfd-f86bdf8d4f01",
     "showTitle": false,
     "tableResultSettingsMap": {},
     "title": ""
    },
    "id": "cBGpAI6oTckK"
   },
   "outputs": [
    {
     "output_type": "display_data",
     "data": {
      "text/html": [
       "<style scoped>\n",
       "  .table-result-container {\n",
       "    max-height: 300px;\n",
       "    overflow: auto;\n",
       "  }\n",
       "  table, th, td {\n",
       "    border: 1px solid black;\n",
       "    border-collapse: collapse;\n",
       "  }\n",
       "  th, td {\n",
       "    padding: 5px;\n",
       "  }\n",
       "  th {\n",
       "    text-align: left;\n",
       "  }\n",
       "</style><div class='table-result-container'><table class='table-result'><thead style='background-color: white'><tr><th>artist_user_id</th><th>acrr</th><th>total_certified_ratings</th><th>first_name</th><th>last_name</th></tr></thead><tbody><tr><td>user_BNTubG2nQCaO</td><td>3.4583333333333335</td><td>96</td><td>Kristen</td><td>Lopez</td></tr><tr><td>user_sEETlirSSTC5</td><td>3.4285714285714284</td><td>98</td><td>null</td><td>null</td></tr><tr><td>user_158lawlPQSSz</td><td>3.382716049382716</td><td>81</td><td>null</td><td>null</td></tr><tr><td>user_DYywyDQ0TPKC</td><td>3.3707865168539324</td><td>89</td><td>Kelly</td><td>Baker</td></tr><tr><td>user_id0U530vTYOJ</td><td>3.369047619047619</td><td>84</td><td>Jennifer</td><td>Richardson</td></tr></tbody></table></div>"
      ]
     },
     "metadata": {
      "application/vnd.databricks.v1+output": {
       "addedWidgets": {},
       "aggData": [],
       "aggError": "",
       "aggOverflow": false,
       "aggSchema": [],
       "aggSeriesLimitReached": false,
       "aggType": "",
       "arguments": {},
       "columnCustomDisplayInfos": {},
       "data": [
        [
         "user_BNTubG2nQCaO",
         3.4583333333333335,
         96,
         "Kristen",
         "Lopez"
        ],
        [
         "user_sEETlirSSTC5",
         3.4285714285714284,
         98,
         null,
         null
        ],
        [
         "user_158lawlPQSSz",
         3.382716049382716,
         81,
         null,
         null
        ],
        [
         "user_DYywyDQ0TPKC",
         3.3707865168539324,
         89,
         "Kelly",
         "Baker"
        ],
        [
         "user_id0U530vTYOJ",
         3.369047619047619,
         84,
         "Jennifer",
         "Richardson"
        ]
       ],
       "datasetInfos": [],
       "dbfsResultPath": null,
       "isJsonSchema": true,
       "metadata": {
        "createTempViewForImplicitDf": true,
        "dataframeName": "_sqldf",
        "executionCount": 19
       },
       "overflow": false,
       "plotOptions": {
        "customPlotOptions": {},
        "displayType": "table",
        "pivotAggregation": null,
        "pivotColumns": null,
        "xColumns": null,
        "yColumns": null
       },
       "removedWidgets": [],
       "schema": [
        {
         "metadata": "{}",
         "name": "artist_user_id",
         "type": "\"string\""
        },
        {
         "metadata": "{}",
         "name": "acrr",
         "type": "\"double\""
        },
        {
         "metadata": "{}",
         "name": "total_certified_ratings",
         "type": "\"long\""
        },
        {
         "metadata": "{}",
         "name": "first_name",
         "type": "\"string\""
        },
        {
         "metadata": "{}",
         "name": "last_name",
         "type": "\"string\""
        }
       ],
       "type": "table"
      }
     },
     "output_type": "display_data"
    }
   ],
   "source": [
    "%sql\n",
    "--2.G SQL\n",
    "\n",
    "WITH ActiveListeners AS (\n",
    "    SELECT user_id\n",
    "    FROM sessions\n",
    "    GROUP BY user_id\n",
    "    HAVING COUNT(*) >= 275\n",
    "),\n",
    "CertifiedReviews AS (\n",
    "    SELECT \n",
    "        reviews.review_id, \n",
    "        reviews.rating AS certified_rating,\n",
    "        reviews.record_id,\n",
    "        reviews.posted_by.user_id AS listener_id\n",
    "    FROM reviews\n",
    "    JOIN (\n",
    "        SELECT review_id, COUNT(*) AS upvote_count\n",
    "        FROM upvotes\n",
    "        GROUP BY review_id\n",
    "        HAVING COUNT(*) >= 5\n",
    "    ) AS upvote_counts\n",
    "    ON reviews.review_id = upvote_counts.review_id\n",
    "    WHERE reviews.posted_by.user_id IN (SELECT user_id FROM ActiveListeners)\n",
    "),\n",
    "ArtistCertifiedRatings AS (\n",
    "    SELECT \n",
    "        records.released_by.artist_user_id AS artist_user_id,\n",
    "        CertifiedReviews.certified_rating\n",
    "    FROM CertifiedReviews\n",
    "    JOIN records\n",
    "    ON CertifiedReviews.record_id = records.record_id\n",
    "),\n",
    "ArtistACRR AS (\n",
    "    SELECT \n",
    "        artist_user_id,\n",
    "        AVG(certified_rating) AS acrr,\n",
    "        COUNT(certified_rating) AS total_certified_ratings\n",
    "    FROM ArtistCertifiedRatings\n",
    "    GROUP BY artist_user_id\n",
    ")\n",
    "SELECT \n",
    "    ArtistACRR.artist_user_id,\n",
    "    ArtistACRR.acrr,\n",
    "    ArtistACRR.total_certified_ratings,\n",
    "    users.real_name.first_name AS first_name,\n",
    "    users.real_name.last_name AS last_name\n",
    "FROM ArtistACRR\n",
    "JOIN users\n",
    "ON ArtistACRR.artist_user_id = users.user_id\n",
    "ORDER BY acrr DESC\n",
    "LIMIT 5;\n"
   ]
  },
  {
   "cell_type": "code",
   "execution_count": 0,
   "metadata": {
    "application/vnd.databricks.v1+cell": {
     "cellMetadata": {
      "byteLimit": 2048000,
      "rowLimit": 10000
     },
     "inputWidgets": {},
     "nuid": "8d4f9edf-e6ab-4202-96b1-e4bae5d8ec3e",
     "showTitle": false,
     "tableResultSettingsMap": {},
     "title": ""
    }
   },
   "outputs": [],
   "source": [
    "# 3 \n",
    "# Go BACK to the beginning and run the whole notebook on the full dataset, both in Databricks Community Version and Databricks Premium Version.\n",
    "# Write down your observations about the differences of using single-node community version vs. using multi-node premium version of Databricks.\n",
    "\n",
    "# The single-node version of Spark is limited by the hardware resources of a single machine, making it slower for \n",
    "# large-scale data processing. In contrast, the multi-node version distributes tasks across a cluster, \n",
    "# leveraging parallel computation to significantly improve speed, especially for big data and complex workloads. \n",
    "# As a result, the multi-node version is much faster for large-scale processing.\n"
   ]
  },
  {
   "cell_type": "code",
   "execution_count": 0,
   "metadata": {
    "application/vnd.databricks.v1+cell": {
     "cellMetadata": {
      "byteLimit": 2048000,
      "rowLimit": 10000
     },
     "inputWidgets": {},
     "nuid": "9009a5bd-afc3-4d2a-b5d7-899ff396a0ef",
     "showTitle": false,
     "tableResultSettingsMap": {},
     "title": ""
    }
   },
   "outputs": [],
   "source": [
    "# End of notebook"
   ]
  }
 ],
 "metadata": {
  "application/vnd.databricks.v1+notebook": {
   "dashboards": [],
   "environmentMetadata": null,
   "language": "python",
   "notebookMetadata": {
    "mostRecentlyExecutedCommandWithImplicitDF": {
     "commandId": 2961720659818681,
     "dataframes": [
      "_sqldf"
     ]
    },
    "pythonIndentUnit": 2
   },
   "notebookName": "HW5_template",
   "widgets": {}
  },
  "colab": {
   "provenance": []
  },
  "kernelspec": {
   "display_name": "Python 3",
   "language": "python",
   "name": "python3"
  },
  "language_info": {
   "name": "python"
  },
  "name": "assignment6",
  "notebookId": 3656808739618655
 },
 "nbformat": 4,
 "nbformat_minor": 0
}